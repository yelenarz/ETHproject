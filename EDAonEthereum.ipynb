{
 "cells": [
  {
   "cell_type": "markdown",
   "id": "ff2f0d67",
   "metadata": {},
   "source": [
    "# Exploratory Data Analysis on Order Book Dynamics of Ethereum\n"
   ]
  },
  {
   "cell_type": "markdown",
   "id": "eb06b2e4",
   "metadata": {},
   "source": [
    "_____________________________________"
   ]
  },
  {
   "cell_type": "markdown",
   "id": "3d9c6025",
   "metadata": {},
   "source": [
    "Made by: Yelena Razzhivina, yelena.rz@outlook.com\n",
    "\n",
    "Link to the youtube video: https://youtu.be/ljKsUQcTc2A"
   ]
  },
  {
   "cell_type": "markdown",
   "id": "410ce27c",
   "metadata": {},
   "source": [
    "# 1. Aims, objectives and background"
   ]
  },
  {
   "cell_type": "markdown",
   "id": "665d2281",
   "metadata": {},
   "source": [
    "## 1.1 Introduction"
   ]
  },
  {
   "cell_type": "markdown",
   "id": "11e52d39",
   "metadata": {},
   "source": [
    "Lately, my attention has been drawn towards the cryptocurrency market, and I have been keen on exploring data science techniques to analyze it. While conventional methods of predicting and analyzing the market rely on basic metrics like low, high, opening, and closing prices, I am convinced that a more comprehensive approach is needed to gain a deeper understanding. To this end, I find the Depth of Market (DOM) to be a captivating aspect that warrants closer scrutiny. DOM is the entire order book of buying and selling prices, recorded over time, and provides a distinct viewpoint into market dynamics that can aid in making informed investment decisions."
   ]
  },
  {
   "cell_type": "markdown",
   "id": "7a124278",
   "metadata": {},
   "source": [
    "## 1.2 Aims and objectives"
   ]
  },
  {
   "cell_type": "markdown",
   "id": "dc7709a5",
   "metadata": {},
   "source": [
    "This study aims to provide an informative analysis on Ethereum.\n",
    "\n",
    "\n",
    "The primary objectives of this study are as follows:\n",
    "\n",
    "-   Process the evolution of the order book over time:\n",
    "    1.  Assess market liquidity \n",
    "    2.  Who dominates the price, the seller or buyer?\n",
    "    3.  Investigate trading activity patterns \n",
    "    4.  Bid-ask spread\n",
    "    5.  Determine the frequency and distribution of orders"
   ]
  },
  {
   "cell_type": "markdown",
   "id": "7ba5447e",
   "metadata": {},
   "source": [
    "## 1.3 Steps of the project"
   ]
  },
  {
   "cell_type": "markdown",
   "id": "385d5e88",
   "metadata": {},
   "source": [
    "1. Obtain Dom data from Binance \n",
    "2. Preprocessing data\n",
    "3. Exploratory data analysis\n",
    "4. Conclusions"
   ]
  },
  {
   "cell_type": "markdown",
   "id": "1f5ecc47",
   "metadata": {},
   "source": [
    "## 1.4 Dataset and Libraries"
   ]
  },
  {
   "cell_type": "markdown",
   "id": "1bd7c57d",
   "metadata": {},
   "source": [
    "Dataset:\n",
    "\n",
    "The Binance platform provides free historical trade data that can be accessed through their website at https://www.binance.com/en/landing/data. This data is downloaded and stored in a dataframe, containing information on buy and sell orders, as well as timestamps.\n",
    "\n",
    "\n",
    "Libraries and Tools:\n",
    "\n",
    "\n",
    "It explores the utilization of the Python programming language and the Jupyter Notebook environment for the analysis. Leveraging the capabilities of libraries such as pandas, numpy, and matplotlib, the study employs bar charts and plot charts to visualize market trends effectively. The methodology focuses on data manipulation and analysis using pandas and numpy, while matplotlib facilitates the creation of graphical representations. "
   ]
  },
  {
   "cell_type": "code",
   "execution_count": 1,
   "id": "5b882cdb",
   "metadata": {},
   "outputs": [],
   "source": [
    "import pandas as pd\n",
    "import numpy as np\n",
    "import matplotlib.pyplot as plt"
   ]
  },
  {
   "cell_type": "markdown",
   "id": "b736054f",
   "metadata": {},
   "source": [
    "## Ethics of data source\n",
    "\n",
    "This data, available for specified time intervals, is publicly accessible and does not necessitate registration. However, it is important to note that according to their privacy policy, the data should not be utilized for commercial purposes."
   ]
  },
  {
   "cell_type": "markdown",
   "id": "d8683f3f",
   "metadata": {},
   "source": [
    "# 2. Data Creation using Binance Historical Market Data"
   ]
  },
  {
   "cell_type": "markdown",
   "id": "adb145b5",
   "metadata": {},
   "source": [
    "I have acquired the market data of spot trades for the month of February 2024 from Binance's website in CSV format."
   ]
  },
  {
   "cell_type": "code",
   "execution_count": 2,
   "id": "77ca793e",
   "metadata": {},
   "outputs": [],
   "source": [
    "df = pd.read_csv(\"ETHUSDT-trades-2024-02.csv\")"
   ]
  },
  {
   "cell_type": "code",
   "execution_count": 3,
   "id": "ce770506",
   "metadata": {},
   "outputs": [
    {
     "data": {
      "text/html": [
       "<div>\n",
       "<style scoped>\n",
       "    .dataframe tbody tr th:only-of-type {\n",
       "        vertical-align: middle;\n",
       "    }\n",
       "\n",
       "    .dataframe tbody tr th {\n",
       "        vertical-align: top;\n",
       "    }\n",
       "\n",
       "    .dataframe thead th {\n",
       "        text-align: right;\n",
       "    }\n",
       "</style>\n",
       "<table border=\"1\" class=\"dataframe\">\n",
       "  <thead>\n",
       "    <tr style=\"text-align: right;\">\n",
       "      <th></th>\n",
       "      <th>1294754183</th>\n",
       "      <th>2283.15000000</th>\n",
       "      <th>0.02570000</th>\n",
       "      <th>58.67695500</th>\n",
       "      <th>1706745600000</th>\n",
       "      <th>False</th>\n",
       "      <th>True</th>\n",
       "    </tr>\n",
       "  </thead>\n",
       "  <tbody>\n",
       "    <tr>\n",
       "      <th>0</th>\n",
       "      <td>1294754184</td>\n",
       "      <td>2283.15</td>\n",
       "      <td>0.0212</td>\n",
       "      <td>48.402780</td>\n",
       "      <td>1706745600000</td>\n",
       "      <td>False</td>\n",
       "      <td>True</td>\n",
       "    </tr>\n",
       "    <tr>\n",
       "      <th>1</th>\n",
       "      <td>1294754185</td>\n",
       "      <td>2283.14</td>\n",
       "      <td>0.0286</td>\n",
       "      <td>65.297804</td>\n",
       "      <td>1706745600002</td>\n",
       "      <td>True</td>\n",
       "      <td>True</td>\n",
       "    </tr>\n",
       "    <tr>\n",
       "      <th>2</th>\n",
       "      <td>1294754186</td>\n",
       "      <td>2283.14</td>\n",
       "      <td>0.0386</td>\n",
       "      <td>88.129204</td>\n",
       "      <td>1706745600004</td>\n",
       "      <td>True</td>\n",
       "      <td>True</td>\n",
       "    </tr>\n",
       "    <tr>\n",
       "      <th>3</th>\n",
       "      <td>1294754187</td>\n",
       "      <td>2283.14</td>\n",
       "      <td>0.0352</td>\n",
       "      <td>80.366528</td>\n",
       "      <td>1706745600004</td>\n",
       "      <td>True</td>\n",
       "      <td>True</td>\n",
       "    </tr>\n",
       "    <tr>\n",
       "      <th>4</th>\n",
       "      <td>1294754188</td>\n",
       "      <td>2283.15</td>\n",
       "      <td>0.0175</td>\n",
       "      <td>39.955125</td>\n",
       "      <td>1706745600004</td>\n",
       "      <td>False</td>\n",
       "      <td>True</td>\n",
       "    </tr>\n",
       "    <tr>\n",
       "      <th>...</th>\n",
       "      <td>...</td>\n",
       "      <td>...</td>\n",
       "      <td>...</td>\n",
       "      <td>...</td>\n",
       "      <td>...</td>\n",
       "      <td>...</td>\n",
       "      <td>...</td>\n",
       "    </tr>\n",
       "    <tr>\n",
       "      <th>31930986</th>\n",
       "      <td>1326685170</td>\n",
       "      <td>3340.09</td>\n",
       "      <td>0.0120</td>\n",
       "      <td>40.081080</td>\n",
       "      <td>1709251199998</td>\n",
       "      <td>True</td>\n",
       "      <td>True</td>\n",
       "    </tr>\n",
       "    <tr>\n",
       "      <th>31930987</th>\n",
       "      <td>1326685171</td>\n",
       "      <td>3340.10</td>\n",
       "      <td>0.0290</td>\n",
       "      <td>96.862900</td>\n",
       "      <td>1709251199998</td>\n",
       "      <td>False</td>\n",
       "      <td>True</td>\n",
       "    </tr>\n",
       "    <tr>\n",
       "      <th>31930988</th>\n",
       "      <td>1326685172</td>\n",
       "      <td>3340.09</td>\n",
       "      <td>0.0200</td>\n",
       "      <td>66.801800</td>\n",
       "      <td>1709251199998</td>\n",
       "      <td>True</td>\n",
       "      <td>True</td>\n",
       "    </tr>\n",
       "    <tr>\n",
       "      <th>31930989</th>\n",
       "      <td>1326685173</td>\n",
       "      <td>3340.09</td>\n",
       "      <td>0.0162</td>\n",
       "      <td>54.109458</td>\n",
       "      <td>1709251199999</td>\n",
       "      <td>True</td>\n",
       "      <td>True</td>\n",
       "    </tr>\n",
       "    <tr>\n",
       "      <th>31930990</th>\n",
       "      <td>1326685174</td>\n",
       "      <td>3340.09</td>\n",
       "      <td>0.0104</td>\n",
       "      <td>34.736936</td>\n",
       "      <td>1709251199999</td>\n",
       "      <td>True</td>\n",
       "      <td>True</td>\n",
       "    </tr>\n",
       "  </tbody>\n",
       "</table>\n",
       "<p>31930991 rows × 7 columns</p>\n",
       "</div>"
      ],
      "text/plain": [
       "          1294754183  2283.15000000  0.02570000  58.67695500  1706745600000  \\\n",
       "0         1294754184        2283.15      0.0212    48.402780  1706745600000   \n",
       "1         1294754185        2283.14      0.0286    65.297804  1706745600002   \n",
       "2         1294754186        2283.14      0.0386    88.129204  1706745600004   \n",
       "3         1294754187        2283.14      0.0352    80.366528  1706745600004   \n",
       "4         1294754188        2283.15      0.0175    39.955125  1706745600004   \n",
       "...              ...            ...         ...          ...            ...   \n",
       "31930986  1326685170        3340.09      0.0120    40.081080  1709251199998   \n",
       "31930987  1326685171        3340.10      0.0290    96.862900  1709251199998   \n",
       "31930988  1326685172        3340.09      0.0200    66.801800  1709251199998   \n",
       "31930989  1326685173        3340.09      0.0162    54.109458  1709251199999   \n",
       "31930990  1326685174        3340.09      0.0104    34.736936  1709251199999   \n",
       "\n",
       "          False  True  \n",
       "0         False  True  \n",
       "1          True  True  \n",
       "2          True  True  \n",
       "3          True  True  \n",
       "4         False  True  \n",
       "...         ...   ...  \n",
       "31930986   True  True  \n",
       "31930987  False  True  \n",
       "31930988   True  True  \n",
       "31930989   True  True  \n",
       "31930990   True  True  \n",
       "\n",
       "[31930991 rows x 7 columns]"
      ]
     },
     "execution_count": 3,
     "metadata": {},
     "output_type": "execute_result"
    }
   ],
   "source": [
    "df"
   ]
  },
  {
   "cell_type": "markdown",
   "id": "8a63b342",
   "metadata": {},
   "source": [
    "## Preprocessing"
   ]
  },
  {
   "cell_type": "markdown",
   "id": "d038e5ae",
   "metadata": {},
   "source": [
    "Rename columns, where \n",
    "- id: Unique key given to each trade\n",
    "\n",
    "- price: Original price for 1 ethereum\n",
    "\n",
    "- qty: Quantity traded\n",
    "\n",
    "- quoteQty: Amount in USDT spend for a quantity\n",
    "\n",
    "- time: Time in milliseconds\n",
    "\n",
    "- isBuyerMaker: if true it is 'sell', if false, it is 'buy'\n",
    "\n",
    "- bestPrice: Match of two orders (here it is always true)"
   ]
  },
  {
   "cell_type": "code",
   "execution_count": 4,
   "id": "5910a0d9",
   "metadata": {},
   "outputs": [],
   "source": [
    "newColumnNames = {\n",
    "    '1294754183': 'id',\n",
    "    '2283.15000000': 'price',\n",
    "    '0.02570000': 'qty',\n",
    "    '58.67695500': 'quoteQty',\n",
    "    '1706745600000': 'time',\n",
    "    'False': 'isBuyerMaker',\n",
    "    'True': 'bestPrice',\n",
    "}\n",
    "df = df.rename(columns=newColumnNames)"
   ]
  },
  {
   "cell_type": "markdown",
   "id": "ba2b5c08",
   "metadata": {},
   "source": [
    "Check for empty values"
   ]
  },
  {
   "cell_type": "code",
   "execution_count": 5,
   "id": "3e7b4f2f",
   "metadata": {
    "scrolled": true
   },
   "outputs": [
    {
     "data": {
      "text/plain": [
       "id              False\n",
       "price           False\n",
       "qty             False\n",
       "quoteQty        False\n",
       "time            False\n",
       "isBuyerMaker    False\n",
       "bestPrice       False\n",
       "dtype: bool"
      ]
     },
     "execution_count": 5,
     "metadata": {},
     "output_type": "execute_result"
    }
   ],
   "source": [
    "df.isnull().any()"
   ]
  },
  {
   "cell_type": "markdown",
   "id": "6a6ac3f7",
   "metadata": {},
   "source": [
    "Verify the accuracy of column data types."
   ]
  },
  {
   "cell_type": "code",
   "execution_count": 6,
   "id": "ca3c0111",
   "metadata": {
    "scrolled": true
   },
   "outputs": [
    {
     "data": {
      "text/plain": [
       "id                int64\n",
       "price           float64\n",
       "qty             float64\n",
       "quoteQty        float64\n",
       "time              int64\n",
       "isBuyerMaker       bool\n",
       "bestPrice          bool\n",
       "dtype: object"
      ]
     },
     "execution_count": 6,
     "metadata": {},
     "output_type": "execute_result"
    }
   ],
   "source": [
    "df.dtypes"
   ]
  },
  {
   "cell_type": "markdown",
   "id": "677955a4",
   "metadata": {},
   "source": [
    "Firstly, the integer timestamps in the 'time' column are converted from milliseconds since the Unix epoch into a human-readable date format, and set it as an index. Additionally, for clarity distinguishing between sell and buy transactions, a novel labeling scheme is introduced based on the 'isBuyerMaker' attribute."
   ]
  },
  {
   "cell_type": "code",
   "execution_count": 7,
   "id": "3472274d",
   "metadata": {},
   "outputs": [
    {
     "data": {
      "text/html": [
       "<div>\n",
       "<style scoped>\n",
       "    .dataframe tbody tr th:only-of-type {\n",
       "        vertical-align: middle;\n",
       "    }\n",
       "\n",
       "    .dataframe tbody tr th {\n",
       "        vertical-align: top;\n",
       "    }\n",
       "\n",
       "    .dataframe thead th {\n",
       "        text-align: right;\n",
       "    }\n",
       "</style>\n",
       "<table border=\"1\" class=\"dataframe\">\n",
       "  <thead>\n",
       "    <tr style=\"text-align: right;\">\n",
       "      <th></th>\n",
       "      <th></th>\n",
       "      <th>id</th>\n",
       "      <th>price</th>\n",
       "      <th>qty</th>\n",
       "      <th>quoteQty</th>\n",
       "      <th>isBuyerMaker</th>\n",
       "      <th>bestPrice</th>\n",
       "    </tr>\n",
       "    <tr>\n",
       "      <th>time</th>\n",
       "      <th>label</th>\n",
       "      <th></th>\n",
       "      <th></th>\n",
       "      <th></th>\n",
       "      <th></th>\n",
       "      <th></th>\n",
       "      <th></th>\n",
       "    </tr>\n",
       "  </thead>\n",
       "  <tbody>\n",
       "    <tr>\n",
       "      <th>2024-02-01 00:00:00.000</th>\n",
       "      <th>buy</th>\n",
       "      <td>1294754184</td>\n",
       "      <td>2283.15</td>\n",
       "      <td>0.0212</td>\n",
       "      <td>48.402780</td>\n",
       "      <td>False</td>\n",
       "      <td>True</td>\n",
       "    </tr>\n",
       "    <tr>\n",
       "      <th>2024-02-01 00:00:00.002</th>\n",
       "      <th>sell</th>\n",
       "      <td>1294754185</td>\n",
       "      <td>2283.14</td>\n",
       "      <td>0.0286</td>\n",
       "      <td>65.297804</td>\n",
       "      <td>True</td>\n",
       "      <td>True</td>\n",
       "    </tr>\n",
       "    <tr>\n",
       "      <th rowspan=\"3\" valign=\"top\">2024-02-01 00:00:00.004</th>\n",
       "      <th>sell</th>\n",
       "      <td>1294754186</td>\n",
       "      <td>2283.14</td>\n",
       "      <td>0.0386</td>\n",
       "      <td>88.129204</td>\n",
       "      <td>True</td>\n",
       "      <td>True</td>\n",
       "    </tr>\n",
       "    <tr>\n",
       "      <th>sell</th>\n",
       "      <td>1294754187</td>\n",
       "      <td>2283.14</td>\n",
       "      <td>0.0352</td>\n",
       "      <td>80.366528</td>\n",
       "      <td>True</td>\n",
       "      <td>True</td>\n",
       "    </tr>\n",
       "    <tr>\n",
       "      <th>buy</th>\n",
       "      <td>1294754188</td>\n",
       "      <td>2283.15</td>\n",
       "      <td>0.0175</td>\n",
       "      <td>39.955125</td>\n",
       "      <td>False</td>\n",
       "      <td>True</td>\n",
       "    </tr>\n",
       "    <tr>\n",
       "      <th>...</th>\n",
       "      <th>...</th>\n",
       "      <td>...</td>\n",
       "      <td>...</td>\n",
       "      <td>...</td>\n",
       "      <td>...</td>\n",
       "      <td>...</td>\n",
       "      <td>...</td>\n",
       "    </tr>\n",
       "    <tr>\n",
       "      <th rowspan=\"3\" valign=\"top\">2024-02-29 23:59:59.998</th>\n",
       "      <th>sell</th>\n",
       "      <td>1326685170</td>\n",
       "      <td>3340.09</td>\n",
       "      <td>0.0120</td>\n",
       "      <td>40.081080</td>\n",
       "      <td>True</td>\n",
       "      <td>True</td>\n",
       "    </tr>\n",
       "    <tr>\n",
       "      <th>buy</th>\n",
       "      <td>1326685171</td>\n",
       "      <td>3340.10</td>\n",
       "      <td>0.0290</td>\n",
       "      <td>96.862900</td>\n",
       "      <td>False</td>\n",
       "      <td>True</td>\n",
       "    </tr>\n",
       "    <tr>\n",
       "      <th>sell</th>\n",
       "      <td>1326685172</td>\n",
       "      <td>3340.09</td>\n",
       "      <td>0.0200</td>\n",
       "      <td>66.801800</td>\n",
       "      <td>True</td>\n",
       "      <td>True</td>\n",
       "    </tr>\n",
       "    <tr>\n",
       "      <th rowspan=\"2\" valign=\"top\">2024-02-29 23:59:59.999</th>\n",
       "      <th>sell</th>\n",
       "      <td>1326685173</td>\n",
       "      <td>3340.09</td>\n",
       "      <td>0.0162</td>\n",
       "      <td>54.109458</td>\n",
       "      <td>True</td>\n",
       "      <td>True</td>\n",
       "    </tr>\n",
       "    <tr>\n",
       "      <th>sell</th>\n",
       "      <td>1326685174</td>\n",
       "      <td>3340.09</td>\n",
       "      <td>0.0104</td>\n",
       "      <td>34.736936</td>\n",
       "      <td>True</td>\n",
       "      <td>True</td>\n",
       "    </tr>\n",
       "  </tbody>\n",
       "</table>\n",
       "<p>31930991 rows × 6 columns</p>\n",
       "</div>"
      ],
      "text/plain": [
       "                                       id    price     qty   quoteQty  \\\n",
       "time                    label                                           \n",
       "2024-02-01 00:00:00.000 buy    1294754184  2283.15  0.0212  48.402780   \n",
       "2024-02-01 00:00:00.002 sell   1294754185  2283.14  0.0286  65.297804   \n",
       "2024-02-01 00:00:00.004 sell   1294754186  2283.14  0.0386  88.129204   \n",
       "                        sell   1294754187  2283.14  0.0352  80.366528   \n",
       "                        buy    1294754188  2283.15  0.0175  39.955125   \n",
       "...                                   ...      ...     ...        ...   \n",
       "2024-02-29 23:59:59.998 sell   1326685170  3340.09  0.0120  40.081080   \n",
       "                        buy    1326685171  3340.10  0.0290  96.862900   \n",
       "                        sell   1326685172  3340.09  0.0200  66.801800   \n",
       "2024-02-29 23:59:59.999 sell   1326685173  3340.09  0.0162  54.109458   \n",
       "                        sell   1326685174  3340.09  0.0104  34.736936   \n",
       "\n",
       "                               isBuyerMaker  bestPrice  \n",
       "time                    label                           \n",
       "2024-02-01 00:00:00.000 buy           False       True  \n",
       "2024-02-01 00:00:00.002 sell           True       True  \n",
       "2024-02-01 00:00:00.004 sell           True       True  \n",
       "                        sell           True       True  \n",
       "                        buy           False       True  \n",
       "...                                     ...        ...  \n",
       "2024-02-29 23:59:59.998 sell           True       True  \n",
       "                        buy           False       True  \n",
       "                        sell           True       True  \n",
       "2024-02-29 23:59:59.999 sell           True       True  \n",
       "                        sell           True       True  \n",
       "\n",
       "[31930991 rows x 6 columns]"
      ]
     },
     "execution_count": 7,
     "metadata": {},
     "output_type": "execute_result"
    }
   ],
   "source": [
    "df['time'] = pd.to_datetime(df['time'], unit = 'ms')\n",
    "\n",
    "df['label'] = df['isBuyerMaker'].apply(lambda x: 'sell' if x else 'buy')\n",
    "\n",
    "df.set_index('label', inplace =True)\n",
    "df.set_index(['time', df.index], inplace =True)\n",
    "df"
   ]
  },
  {
   "cell_type": "markdown",
   "id": "7b52fc09",
   "metadata": {},
   "source": [
    "Drop 'id' and 'bestPrice' columns from the dataset since they do not contribute any more meaningful information and are irrelevant for this analysis."
   ]
  },
  {
   "cell_type": "code",
   "execution_count": 8,
   "id": "2de87e42",
   "metadata": {},
   "outputs": [
    {
     "data": {
      "text/html": [
       "<div>\n",
       "<style scoped>\n",
       "    .dataframe tbody tr th:only-of-type {\n",
       "        vertical-align: middle;\n",
       "    }\n",
       "\n",
       "    .dataframe tbody tr th {\n",
       "        vertical-align: top;\n",
       "    }\n",
       "\n",
       "    .dataframe thead th {\n",
       "        text-align: right;\n",
       "    }\n",
       "</style>\n",
       "<table border=\"1\" class=\"dataframe\">\n",
       "  <thead>\n",
       "    <tr style=\"text-align: right;\">\n",
       "      <th></th>\n",
       "      <th></th>\n",
       "      <th>price</th>\n",
       "      <th>qty</th>\n",
       "      <th>quoteQty</th>\n",
       "    </tr>\n",
       "    <tr>\n",
       "      <th>time</th>\n",
       "      <th>label</th>\n",
       "      <th></th>\n",
       "      <th></th>\n",
       "      <th></th>\n",
       "    </tr>\n",
       "  </thead>\n",
       "  <tbody>\n",
       "    <tr>\n",
       "      <th>2024-02-01 00:00:00.000</th>\n",
       "      <th>buy</th>\n",
       "      <td>2283.15</td>\n",
       "      <td>0.0212</td>\n",
       "      <td>48.402780</td>\n",
       "    </tr>\n",
       "    <tr>\n",
       "      <th>2024-02-01 00:00:00.002</th>\n",
       "      <th>sell</th>\n",
       "      <td>2283.14</td>\n",
       "      <td>0.0286</td>\n",
       "      <td>65.297804</td>\n",
       "    </tr>\n",
       "    <tr>\n",
       "      <th rowspan=\"3\" valign=\"top\">2024-02-01 00:00:00.004</th>\n",
       "      <th>sell</th>\n",
       "      <td>2283.14</td>\n",
       "      <td>0.0386</td>\n",
       "      <td>88.129204</td>\n",
       "    </tr>\n",
       "    <tr>\n",
       "      <th>sell</th>\n",
       "      <td>2283.14</td>\n",
       "      <td>0.0352</td>\n",
       "      <td>80.366528</td>\n",
       "    </tr>\n",
       "    <tr>\n",
       "      <th>buy</th>\n",
       "      <td>2283.15</td>\n",
       "      <td>0.0175</td>\n",
       "      <td>39.955125</td>\n",
       "    </tr>\n",
       "    <tr>\n",
       "      <th>...</th>\n",
       "      <th>...</th>\n",
       "      <td>...</td>\n",
       "      <td>...</td>\n",
       "      <td>...</td>\n",
       "    </tr>\n",
       "    <tr>\n",
       "      <th rowspan=\"3\" valign=\"top\">2024-02-29 23:59:59.998</th>\n",
       "      <th>sell</th>\n",
       "      <td>3340.09</td>\n",
       "      <td>0.0120</td>\n",
       "      <td>40.081080</td>\n",
       "    </tr>\n",
       "    <tr>\n",
       "      <th>buy</th>\n",
       "      <td>3340.10</td>\n",
       "      <td>0.0290</td>\n",
       "      <td>96.862900</td>\n",
       "    </tr>\n",
       "    <tr>\n",
       "      <th>sell</th>\n",
       "      <td>3340.09</td>\n",
       "      <td>0.0200</td>\n",
       "      <td>66.801800</td>\n",
       "    </tr>\n",
       "    <tr>\n",
       "      <th rowspan=\"2\" valign=\"top\">2024-02-29 23:59:59.999</th>\n",
       "      <th>sell</th>\n",
       "      <td>3340.09</td>\n",
       "      <td>0.0162</td>\n",
       "      <td>54.109458</td>\n",
       "    </tr>\n",
       "    <tr>\n",
       "      <th>sell</th>\n",
       "      <td>3340.09</td>\n",
       "      <td>0.0104</td>\n",
       "      <td>34.736936</td>\n",
       "    </tr>\n",
       "  </tbody>\n",
       "</table>\n",
       "<p>31930991 rows × 3 columns</p>\n",
       "</div>"
      ],
      "text/plain": [
       "                                 price     qty   quoteQty\n",
       "time                    label                            \n",
       "2024-02-01 00:00:00.000 buy    2283.15  0.0212  48.402780\n",
       "2024-02-01 00:00:00.002 sell   2283.14  0.0286  65.297804\n",
       "2024-02-01 00:00:00.004 sell   2283.14  0.0386  88.129204\n",
       "                        sell   2283.14  0.0352  80.366528\n",
       "                        buy    2283.15  0.0175  39.955125\n",
       "...                                ...     ...        ...\n",
       "2024-02-29 23:59:59.998 sell   3340.09  0.0120  40.081080\n",
       "                        buy    3340.10  0.0290  96.862900\n",
       "                        sell   3340.09  0.0200  66.801800\n",
       "2024-02-29 23:59:59.999 sell   3340.09  0.0162  54.109458\n",
       "                        sell   3340.09  0.0104  34.736936\n",
       "\n",
       "[31930991 rows x 3 columns]"
      ]
     },
     "execution_count": 8,
     "metadata": {},
     "output_type": "execute_result"
    }
   ],
   "source": [
    "df=df.drop(columns=['bestPrice', 'id', 'isBuyerMaker'])\n",
    "df"
   ]
  },
  {
   "cell_type": "markdown",
   "id": "cc01b13e",
   "metadata": {},
   "source": [
    "Aggregate the time data to ensure it can be processed in second intervals and mean of price, sum of qty and quoteQty numerical data, to make it more manageable to analyze."
   ]
  },
  {
   "cell_type": "code",
   "execution_count": 9,
   "id": "970b2361",
   "metadata": {
    "scrolled": true
   },
   "outputs": [],
   "source": [
    "df = df.groupby([pd.Grouper(freq='s', level='time'), 'label']).agg({'price': 'mean', 'qty': 'sum', 'quoteQty': 'sum'})"
   ]
  },
  {
   "cell_type": "code",
   "execution_count": 10,
   "id": "3605b4eb",
   "metadata": {},
   "outputs": [
    {
     "data": {
      "text/html": [
       "<div>\n",
       "<style scoped>\n",
       "    .dataframe tbody tr th:only-of-type {\n",
       "        vertical-align: middle;\n",
       "    }\n",
       "\n",
       "    .dataframe tbody tr th {\n",
       "        vertical-align: top;\n",
       "    }\n",
       "\n",
       "    .dataframe thead th {\n",
       "        text-align: right;\n",
       "    }\n",
       "</style>\n",
       "<table border=\"1\" class=\"dataframe\">\n",
       "  <thead>\n",
       "    <tr style=\"text-align: right;\">\n",
       "      <th></th>\n",
       "      <th></th>\n",
       "      <th>price</th>\n",
       "      <th>qty</th>\n",
       "      <th>quoteQty</th>\n",
       "    </tr>\n",
       "    <tr>\n",
       "      <th>time</th>\n",
       "      <th>label</th>\n",
       "      <th></th>\n",
       "      <th></th>\n",
       "      <th></th>\n",
       "    </tr>\n",
       "  </thead>\n",
       "  <tbody>\n",
       "    <tr>\n",
       "      <th rowspan=\"2\" valign=\"top\">2024-02-01 00:00:00</th>\n",
       "      <th>buy</th>\n",
       "      <td>2283.150</td>\n",
       "      <td>0.4886</td>\n",
       "      <td>1115.547090</td>\n",
       "    </tr>\n",
       "    <tr>\n",
       "      <th>sell</th>\n",
       "      <td>2283.140</td>\n",
       "      <td>0.9438</td>\n",
       "      <td>2154.827532</td>\n",
       "    </tr>\n",
       "    <tr>\n",
       "      <th rowspan=\"2\" valign=\"top\">2024-02-01 00:00:01</th>\n",
       "      <th>buy</th>\n",
       "      <td>2283.150</td>\n",
       "      <td>0.1531</td>\n",
       "      <td>349.550265</td>\n",
       "    </tr>\n",
       "    <tr>\n",
       "      <th>sell</th>\n",
       "      <td>2283.140</td>\n",
       "      <td>0.0864</td>\n",
       "      <td>197.263296</td>\n",
       "    </tr>\n",
       "    <tr>\n",
       "      <th rowspan=\"2\" valign=\"top\">2024-02-01 00:00:02</th>\n",
       "      <th>buy</th>\n",
       "      <td>2283.150</td>\n",
       "      <td>0.0261</td>\n",
       "      <td>59.590215</td>\n",
       "    </tr>\n",
       "    <tr>\n",
       "      <th>sell</th>\n",
       "      <td>2283.140</td>\n",
       "      <td>0.2626</td>\n",
       "      <td>599.552564</td>\n",
       "    </tr>\n",
       "    <tr>\n",
       "      <th rowspan=\"2\" valign=\"top\">2024-02-01 00:00:03</th>\n",
       "      <th>buy</th>\n",
       "      <td>2283.150</td>\n",
       "      <td>0.0573</td>\n",
       "      <td>130.824495</td>\n",
       "    </tr>\n",
       "    <tr>\n",
       "      <th>sell</th>\n",
       "      <td>2283.140</td>\n",
       "      <td>0.0433</td>\n",
       "      <td>98.859962</td>\n",
       "    </tr>\n",
       "    <tr>\n",
       "      <th rowspan=\"2\" valign=\"top\">2024-02-01 00:00:04</th>\n",
       "      <th>buy</th>\n",
       "      <td>2283.010</td>\n",
       "      <td>0.0030</td>\n",
       "      <td>6.849030</td>\n",
       "    </tr>\n",
       "    <tr>\n",
       "      <th>sell</th>\n",
       "      <td>2283.052</td>\n",
       "      <td>13.7446</td>\n",
       "      <td>31380.192814</td>\n",
       "    </tr>\n",
       "  </tbody>\n",
       "</table>\n",
       "</div>"
      ],
      "text/plain": [
       "                              price      qty      quoteQty\n",
       "time                label                                 \n",
       "2024-02-01 00:00:00 buy    2283.150   0.4886   1115.547090\n",
       "                    sell   2283.140   0.9438   2154.827532\n",
       "2024-02-01 00:00:01 buy    2283.150   0.1531    349.550265\n",
       "                    sell   2283.140   0.0864    197.263296\n",
       "2024-02-01 00:00:02 buy    2283.150   0.0261     59.590215\n",
       "                    sell   2283.140   0.2626    599.552564\n",
       "2024-02-01 00:00:03 buy    2283.150   0.0573    130.824495\n",
       "                    sell   2283.140   0.0433     98.859962\n",
       "2024-02-01 00:00:04 buy    2283.010   0.0030      6.849030\n",
       "                    sell   2283.052  13.7446  31380.192814"
      ]
     },
     "execution_count": 10,
     "metadata": {},
     "output_type": "execute_result"
    }
   ],
   "source": [
    "df.head(10)"
   ]
  },
  {
   "cell_type": "markdown",
   "id": "f352d681",
   "metadata": {},
   "source": [
    "It is unnecessary to keep both 'buy' and 'sell' labels for one second, so by calculating the difference between the quantities of the two orders and saving the result in the DataFrame."
   ]
  },
  {
   "cell_type": "code",
   "execution_count": 11,
   "id": "7d650c7e",
   "metadata": {},
   "outputs": [],
   "source": [
    "indices_to_drop = []\n",
    "\n",
    "# Checking if 'qty' for 'buy' is bigger than 'qty' for 'sell'\n",
    "for timestamp in df.index.levels[0]:\n",
    "    try:\n",
    "        buy_qty = df.loc[(timestamp, 'buy'), 'qty']\n",
    "        sell_qty = df.loc[(timestamp, 'sell'), 'qty']\n",
    "        buy_quote_qty = df.loc[(timestamp, 'buy'), 'quoteQty']\n",
    "        sell_quote_qty = df.loc[(timestamp, 'sell'), 'quoteQty']\n",
    "\n",
    "        if buy_qty > sell_qty:\n",
    "            df.loc[(timestamp, 'buy'), 'qty'] -= sell_qty\n",
    "            df.loc[(timestamp, 'buy'), 'quoteQty'] -= sell_quote_qty\n",
    "            indices_to_drop.append((timestamp, 'sell'))\n",
    "        else:\n",
    "            df.loc[(timestamp, 'sell'), 'qty'] -= buy_qty\n",
    "            df.loc[(timestamp, 'sell'), 'quoteQty'] -= buy_quote_qty\n",
    "            indices_to_drop.append((timestamp, 'buy'))\n",
    "    except KeyError:\n",
    "        pass\n",
    "\n",
    "# Dropping rows based on the list of indices to drop\n",
    "df.drop(index=indices_to_drop, inplace=True)"
   ]
  },
  {
   "cell_type": "code",
   "execution_count": 12,
   "id": "49098ee5",
   "metadata": {
    "scrolled": false
   },
   "outputs": [
    {
     "data": {
      "text/html": [
       "<div>\n",
       "<style scoped>\n",
       "    .dataframe tbody tr th:only-of-type {\n",
       "        vertical-align: middle;\n",
       "    }\n",
       "\n",
       "    .dataframe tbody tr th {\n",
       "        vertical-align: top;\n",
       "    }\n",
       "\n",
       "    .dataframe thead th {\n",
       "        text-align: right;\n",
       "    }\n",
       "</style>\n",
       "<table border=\"1\" class=\"dataframe\">\n",
       "  <thead>\n",
       "    <tr style=\"text-align: right;\">\n",
       "      <th></th>\n",
       "      <th></th>\n",
       "      <th>price</th>\n",
       "      <th>qty</th>\n",
       "      <th>quoteQty</th>\n",
       "    </tr>\n",
       "    <tr>\n",
       "      <th>time</th>\n",
       "      <th>label</th>\n",
       "      <th></th>\n",
       "      <th></th>\n",
       "      <th></th>\n",
       "    </tr>\n",
       "  </thead>\n",
       "  <tbody>\n",
       "    <tr>\n",
       "      <th>2024-02-01 00:00:00</th>\n",
       "      <th>sell</th>\n",
       "      <td>2283.140000</td>\n",
       "      <td>0.4552</td>\n",
       "      <td>1039.280442</td>\n",
       "    </tr>\n",
       "    <tr>\n",
       "      <th>2024-02-01 00:00:01</th>\n",
       "      <th>buy</th>\n",
       "      <td>2283.150000</td>\n",
       "      <td>0.0667</td>\n",
       "      <td>152.286969</td>\n",
       "    </tr>\n",
       "    <tr>\n",
       "      <th>2024-02-01 00:00:02</th>\n",
       "      <th>sell</th>\n",
       "      <td>2283.140000</td>\n",
       "      <td>0.2365</td>\n",
       "      <td>539.962349</td>\n",
       "    </tr>\n",
       "    <tr>\n",
       "      <th>2024-02-01 00:00:03</th>\n",
       "      <th>buy</th>\n",
       "      <td>2283.150000</td>\n",
       "      <td>0.0140</td>\n",
       "      <td>31.964533</td>\n",
       "    </tr>\n",
       "    <tr>\n",
       "      <th>2024-02-01 00:00:04</th>\n",
       "      <th>sell</th>\n",
       "      <td>2283.052000</td>\n",
       "      <td>13.7416</td>\n",
       "      <td>31373.343784</td>\n",
       "    </tr>\n",
       "    <tr>\n",
       "      <th>2024-02-01 00:00:05</th>\n",
       "      <th>buy</th>\n",
       "      <td>2282.890000</td>\n",
       "      <td>2.3986</td>\n",
       "      <td>5475.741538</td>\n",
       "    </tr>\n",
       "    <tr>\n",
       "      <th>2024-02-01 00:00:06</th>\n",
       "      <th>sell</th>\n",
       "      <td>2282.672564</td>\n",
       "      <td>24.4350</td>\n",
       "      <td>55776.711644</td>\n",
       "    </tr>\n",
       "    <tr>\n",
       "      <th>2024-02-01 00:00:07</th>\n",
       "      <th>sell</th>\n",
       "      <td>2282.430000</td>\n",
       "      <td>3.0622</td>\n",
       "      <td>6989.257025</td>\n",
       "    </tr>\n",
       "    <tr>\n",
       "      <th>2024-02-01 00:00:08</th>\n",
       "      <th>buy</th>\n",
       "      <td>2282.440000</td>\n",
       "      <td>0.1314</td>\n",
       "      <td>299.912616</td>\n",
       "    </tr>\n",
       "    <tr>\n",
       "      <th>2024-02-01 00:00:09</th>\n",
       "      <th>sell</th>\n",
       "      <td>2282.430000</td>\n",
       "      <td>27.8262</td>\n",
       "      <td>63511.353666</td>\n",
       "    </tr>\n",
       "  </tbody>\n",
       "</table>\n",
       "</div>"
      ],
      "text/plain": [
       "                                 price      qty      quoteQty\n",
       "time                label                                    \n",
       "2024-02-01 00:00:00 sell   2283.140000   0.4552   1039.280442\n",
       "2024-02-01 00:00:01 buy    2283.150000   0.0667    152.286969\n",
       "2024-02-01 00:00:02 sell   2283.140000   0.2365    539.962349\n",
       "2024-02-01 00:00:03 buy    2283.150000   0.0140     31.964533\n",
       "2024-02-01 00:00:04 sell   2283.052000  13.7416  31373.343784\n",
       "2024-02-01 00:00:05 buy    2282.890000   2.3986   5475.741538\n",
       "2024-02-01 00:00:06 sell   2282.672564  24.4350  55776.711644\n",
       "2024-02-01 00:00:07 sell   2282.430000   3.0622   6989.257025\n",
       "2024-02-01 00:00:08 buy    2282.440000   0.1314    299.912616\n",
       "2024-02-01 00:00:09 sell   2282.430000  27.8262  63511.353666"
      ]
     },
     "execution_count": 12,
     "metadata": {},
     "output_type": "execute_result"
    }
   ],
   "source": [
    "df.head(10)"
   ]
  },
  {
   "cell_type": "markdown",
   "id": "2c8a60e9",
   "metadata": {},
   "source": [
    "## Exploratory data analysis"
   ]
  },
  {
   "cell_type": "markdown",
   "id": "1778d2ce",
   "metadata": {},
   "source": [
    "Who dominates the price: the seller or the buyer?\n",
    "\n",
    "A plot is created featuring two lines representing 'buy' and 'sell' actions, with time segmented by day, facilitating a clear observation of monthly trends."
   ]
  },
  {
   "cell_type": "code",
   "execution_count": 20,
   "id": "5efb3972",
   "metadata": {
    "scrolled": false
   },
   "outputs": [
    {
     "data": {
      "text/plain": [
       "<matplotlib.legend.Legend at 0x15c5d8690>"
      ]
     },
     "execution_count": 20,
     "metadata": {},
     "output_type": "execute_result"
    },
    {
     "data": {
      "image/png": "[encoded data removed]",
      "text/plain": [
       "<Figure size 1000x600 with 1 Axes>"
      ]
     },
     "metadata": {},
     "output_type": "display_data"
    }
   ],
   "source": [
    "buy_data = df.loc[df.index.get_level_values('label') == 'buy'][['qty']]\n",
    "sell_data = df.loc[df.index.get_level_values('label') == 'sell'][['qty']]\n",
    "\n",
    "buy_data.reset_index(level='label', drop=True, inplace=True)\n",
    "sell_data.reset_index(level='label', drop=True, inplace=True)\n",
    "\n",
    "buy_data = buy_data.groupby(pd.Grouper(freq='D', level='time')).sum()\n",
    "sell_data = sell_data.groupby(pd.Grouper(freq='D', level='time')).sum()\n",
    "\n",
    "plt.figure(figsize=(10, 6)) \n",
    "plt.plot(buy_data, label='Buy', marker='o')  \n",
    "plt.plot(sell_data, label='Sell', marker='o')\n",
    "plt.xticks(rotation=90)\n",
    "plt.legend()"
   ]
  },
  {
   "cell_type": "markdown",
   "id": "66c5a9c1",
   "metadata": {},
   "source": [
    "It is evident that both buyers and sellers have been active in the Ethereum market, but buyers have exhibited a stronger presence. By scrutinizing the market order book data from the previous month, it is clear that Ethereum is surrounded by a bullish sentiment. This implies that traders are optimistic about Ethereum's growth potential, motivating them to either invest in it for the long haul or speculate on its price increase. The persistent dominance of buy orders over sell orders is a testament to this optimism.\n",
    "\n",
    "However, there were a few occurrences during the month (07/02, 11/02, 16/02), and notably on 26/02, where sell volumes slightly exceeded buy volumes, indicating intermittent selling pressure amidst an overall bullish trend. This could signify profit-taking or short-term corrections within the broader upward trend. Let us now analyze the overall sales and purchases volume."
   ]
  },
  {
   "cell_type": "code",
   "execution_count": 14,
   "id": "f737cd76",
   "metadata": {},
   "outputs": [
    {
     "name": "stdout",
     "output_type": "stream",
     "text": [
      "Sold 4801176.000599998\n",
      "Bought 5025918.910599999\n"
     ]
    }
   ],
   "source": [
    "print('Sold', df.loc[df.index.get_level_values('label') == 'sell']['qty'].sum())\n",
    "print('Bought', df.loc[df.index.get_level_values('label') == 'buy']['qty'].sum())"
   ]
  },
  {
   "cell_type": "markdown",
   "id": "6006f56b",
   "metadata": {},
   "source": [
    "This pattern suggests that buyers were more active than sellers during this month, further supporting the bullish sentiment. It indicates that overall, there were more Ethereum bought than sold during February 2024, thus driving the price of Ethereum upwards most of the time. "
   ]
  },
  {
   "cell_type": "markdown",
   "id": "96f6f0d2",
   "metadata": {},
   "source": [
    "2. Liquidity analysis. It is how easy an asset, such as Ethereum, can be bought or sold in the market without causing significant price changes. It depends on various factors, in this analysis only two considered:\n",
    "- Bid-Ask Spread\n",
    "- Volume at Price"
   ]
  },
  {
   "cell_type": "markdown",
   "id": "7c887696",
   "metadata": {},
   "source": [
    "The bid-ask spread is a measure of the supply and demand. To calculate the bid-ask spread, subtract the highest buy price from the lowest sell price. Additionally, it is common practice to express the bid-ask spread as a percentage of the mid-price, which gives a standardized measure of the bid-ask spread to the Ethereum's price."
   ]
  },
  {
   "cell_type": "code",
   "execution_count": 15,
   "id": "3ab3456e",
   "metadata": {
    "scrolled": false
   },
   "outputs": [
    {
     "name": "stdout",
     "output_type": "stream",
     "text": [
      "Bid-ask spread: 1281.9218382352942\n",
      "Bid-Ask Spread Percentage: 44.48518152300535 %\n"
     ]
    }
   ],
   "source": [
    "lowest_sell = df.loc[df.index.get_level_values('label') == 'sell']['price'].min()\n",
    "highest_buy = df.loc[df.index.get_level_values('label') == 'buy']['price'].max()\n",
    "\n",
    "bidask_spread = highest_buy - lowest_sell\n",
    "print('Bid-ask spread:', bidask_spread)\n",
    "\n",
    "mid_price = (highest_buy + lowest_sell) / 2\n",
    "\n",
    "bidask_spread_percentage = (bidask_spread / mid_price) * 100\n",
    "print('Bid-Ask Spread Percentage:', bidask_spread_percentage, '%')"
   ]
  },
  {
   "cell_type": "markdown",
   "id": "3834bada",
   "metadata": {},
   "source": [
    "Bid-ask spread percentage of 44.48% indicates that the bid-ask spread is significant compared to the mid-price, potentially suggesting lower liquidity. Lower liquidity result in increased price volatility, as the market may react more sharply to individual trades or news events. \n",
    "\n",
    "In assessing investment opportunities, investors typically prefer securities with narrower bid-ask spreads, as they indicate deeper liquidity and potentially lower transaction costs. Wide spreads, such as the one indicated by a 44.48% spread percentage, may prompt investors to exercise caution and consider the potential implications of trading in a less liquid market.\n",
    "\n",
    "To better understand the situation, it is helpful to investigate the Volume at Price. This involves grouping prices by bins and calculating the volume at each price level, including volumes of buy and sell orders."
   ]
  },
  {
   "cell_type": "code",
   "execution_count": 16,
   "id": "b851dcab",
   "metadata": {
    "scrolled": false
   },
   "outputs": [
    {
     "data": {
      "image/png": "[encoded data removed]",
      "text/plain": [
       "<Figure size 1000x600 with 1 Axes>"
      ]
     },
     "metadata": {},
     "output_type": "display_data"
    }
   ],
   "source": [
    "round_prices = pd.Series(df['price'].round())\n",
    "price_intervals = pd.interval_range(start=round_prices.min(), end=round_prices.max(), freq=100)\n",
    "\n",
    "# Calculate volume at price (VAP) profile\n",
    "vap_buy = pd.cut(round_prices[df.index.get_level_values('label') == 'buy'], bins=price_intervals).value_counts().sort_index()\n",
    "vap_sell = pd.cut(round_prices[df.index.get_level_values('label') == 'sell'], bins=price_intervals).value_counts().sort_index()\n",
    "\n",
    "# Plot VAP profile\n",
    "plt.figure(figsize=(10, 6))\n",
    "bar_width = 0.4\n",
    "plt.bar(vap_buy.index.astype(str), vap_buy.values, width=bar_width, color='green', label='Buy')\n",
    "plt.bar(vap_sell.index.astype(str), vap_sell.values, width=bar_width, color='red', label='Sell', bottom=vap_buy.values)\n",
    "plt.xlabel('Price Intervals')\n",
    "plt.ylabel('Volume (quoteQty)')\n",
    "plt.title('Volume at Price (VAP) Profile')\n",
    "plt.xticks(rotation=45, ha='right')\n",
    "plt.legend()\n",
    "plt.tight_layout()\n",
    "plt.show()"
   ]
  },
  {
   "cell_type": "markdown",
   "id": "2534ebc1",
   "metadata": {},
   "source": [
    "The data reveals that the 2241-2341, 2441-2541, and 2741-3041 price ranges exhibit higher trading volume, indicating significant activity in these areas. This suggests a strong demand for Ethereum at these levels and a potential for further price appreciation, as evidenced by the VAP profile. \n",
    "\n",
    "Overall, these observations point towards a bullish market sentiment with a notable presence of buyers, demonstrating confidence in Ethereum's future potential and a willingness to hold or speculate on its price. However, it's important to note that the market remains volatile, as evidenced by the bid-ask spread percentage. To gain further insight, we analyze buy and sell statistics using the .describe() function."
   ]
  },
  {
   "cell_type": "code",
   "execution_count": 17,
   "id": "3012e154",
   "metadata": {
    "scrolled": false
   },
   "outputs": [
    {
     "name": "stdout",
     "output_type": "stream",
     "text": [
      "Buy\n",
      "               price           qty      quoteQty\n",
      "count  1.131562e+06  1.131562e+06  1.131562e+06\n",
      "mean   2.744111e+03  4.441576e+00  1.252934e+04\n",
      "std    3.344428e+02  1.915782e+01  5.460709e+04\n",
      "min    2.241749e+03  8.673617e-19 -4.400000e-04\n",
      "25%    2.428552e+03  5.690000e-02  1.523750e+02\n",
      "50%    2.785071e+03  4.481000e-01  1.215341e+03\n",
      "75%    2.963070e+03  2.809600e+00  7.780989e+03\n",
      "max    3.522644e+03  2.539641e+03  7.565593e+06 \n",
      "\n",
      "Sell\n",
      "               price           qty      quoteQty\n",
      "count  1.013569e+06  1.013569e+06  1.013569e+06\n",
      "mean   2.754141e+03  4.736901e+00  1.337553e+04\n",
      "std    3.264249e+02  1.841764e+01  5.265932e+04\n",
      "min    2.240722e+03  0.000000e+00 -5.002958e+00\n",
      "25%    2.466559e+03  8.120000e-02  2.179496e+02\n",
      "50%    2.789280e+03  5.711000e-01  1.558279e+03\n",
      "75%    2.961350e+03  3.246600e+00  9.050692e+03\n",
      "max    3.522383e+03  2.175493e+03  6.415997e+06\n"
     ]
    }
   ],
   "source": [
    "print('Buy\\n', df[df.index.get_level_values('label') == 'buy'].describe(), '\\n')\n",
    "print('Sell\\n', df[df.index.get_level_values('label') == 'sell'].describe())"
   ]
  },
  {
   "cell_type": "markdown",
   "id": "dc0e2d30",
   "metadata": {},
   "source": [
    "Quantity Traded:\n",
    "The mean quantities bought and sold are similar, with buyers acquiring slightly less Ethereum on average compared to what sellers are offering. Both buying and selling quantities show considerable variability, as indicated by their large standard deviations.\n",
    "\n",
    "Trade Frequency:\n",
    "More buy orders were executed compared to sell orders, as evidenced by the higher count of buy orders. However, the disparity in count between buy and sell orders is not substantial, indicating relatively balanced trading activity between buyers and sellers.\n",
    "\n",
    "Minimum and Maximum Values:\n",
    "While the minimum prices for both buying and selling activities are similar, the buy price tends to be marginally lower. So, if the minimum buy price is slightly lower than the minimum sell price in a dataset consisting solely of executed orders, it suggests that buyers were able to purchase Ethereum at slightly lower prices compared to what sellers were willing to accept for their Ethereum.\n",
    "\n",
    "Price Distribution:\n",
    "The average purchase price is lower than the average selling price, suggesting that, on average, buyers are paying slightly less than sellers are receiving. Both buying and selling prices exhibit relatively similar distributions, though buyers' standard deviation is higher, indicating price volatility.\n",
    "\n",
    "Further Relative Changes of price analysis takes place."
   ]
  },
  {
   "cell_type": "code",
   "execution_count": 18,
   "id": "3848c658",
   "metadata": {
    "scrolled": false
   },
   "outputs": [
    {
     "data": {
      "image/png": "[encoded data removed]",
      "text/plain": [
       "<Figure size 1600x600 with 1 Axes>"
      ]
     },
     "metadata": {},
     "output_type": "display_data"
    }
   ],
   "source": [
    "percChange = df.price.pct_change()\n",
    "\n",
    "fig, ax = plt.subplots(figsize=(16,6))\n",
    "ax.scatter(df.index.get_level_values('time'), percChange, marker='.')\n",
    "ax.xaxis.set_major_locator(plt.MaxNLocator(12))\n",
    "plt.title('Relative changes')\n",
    "plt.grid()\n",
    "plt.show()"
   ]
  },
  {
   "cell_type": "markdown",
   "id": "fd466289",
   "metadata": {},
   "source": [
    "On the second half of the month the analysis reveals a notable spike in percentage changes, suggesting heightened volatility within the Ethereum market. The period spanning from February 27th to March 1st, 2024, we observe an especially pronounced surge in percentage changes. This period likely corresponds to a significant event or catalyst that exerted substantial influence on Ethereum prices. The sharp increase in percentage changes during this timeframe underscores the dynamic nature of cryptocurrency markets, where price movements occur rapidly and dramatically within short timeframes."
   ]
  },
  {
   "cell_type": "markdown",
   "id": "d54818f9",
   "metadata": {},
   "source": [
    "Examine the current phase of the cryptocurrency market cycles:"
   ]
  },
  {
   "cell_type": "code",
   "execution_count": 19,
   "id": "330bec86",
   "metadata": {},
   "outputs": [
    {
     "data": {
      "text/plain": [
       "<matplotlib.legend.Legend at 0x15e8c61d0>"
      ]
     },
     "execution_count": 19,
     "metadata": {},
     "output_type": "execute_result"
    },
    {
     "data": {
      "image/png": "[encoded data removed]",
      "text/plain": [
       "<Figure size 640x480 with 1 Axes>"
      ]
     },
     "metadata": {},
     "output_type": "display_data"
    }
   ],
   "source": [
    "plt.plot(df.index.get_level_values('time'), df['price'], color='green', label='Price')\n",
    "\n",
    "# Add legends and labels\n",
    "plt.title('Ethereum Price with Market Cycles')\n",
    "plt.xlabel('Date')\n",
    "plt.ylabel('Price')\n",
    "plt.xticks(rotation=45)\n",
    "plt.legend()"
   ]
  },
  {
   "cell_type": "markdown",
   "id": "3314a8ec",
   "metadata": {},
   "source": [
    "Here we observe a markup phase. It is characterized by:\n",
    "- prices consistently increase, and investors are attracted by positive media attention and growing market demand\n",
    "- skilled investors use technical analysis to identify higher lows and higher highs, and the value of cryptocurrencies appreciates\n",
    "- market sentiment shifts from neutrality to optimism and excitement, and novice investors are driven by FOMO (Fear of Missing Out)"
   ]
  },
  {
   "cell_type": "markdown",
   "id": "fbf2ed1c",
   "metadata": {},
   "source": [
    "# 3. Conclusions and recommendations \n",
    "\n",
    "This research of executed orders of Ethereum of February 2024 revealed various findings:\n",
    "\n",
    "In the current market environment, we're observing a phase reminiscent of the 'Markup Phase' within the accumulation stage. This phase is characterized by rapid price growth, often fueled by the Fear of Missing Out (FOMO) phenomenon prevalent among novice investors. As prices ascend, there's a reinforcing confidence in further appreciation, igniting bullish momentum. Factors such as regulatory advancements and institutional adoption within the crypto sphere amplify this optimistic sentiment, adding fuel to the already fervent market.\n",
    "\n",
    "However, amidst this bullish fervor, there are signals of caution, notably the widening bid-ask spread. This departure from typical market conditions indicates heightened risk and volatility. Prices are fluctuating rapidly, presenting both opportunities for significant gains and risks of substantial losses within short timeframes. In such conditions, prudent risk management strategies become imperative to navigate the market effectively.\n",
    "\n",
    "Additionally, concerns about low liquidity add another layer of complexity to the analysis. Cryptocurrencies with low liquidity are particularly vulnerable to pronounced price swings, exacerbating the already heightened volatility. The challenge of executing trades in illiquid markets can further compound risks, especially during times of market stress. Insufficient liquidity may impede the ability to sell assets swiftly, potentially leading to larger losses if selling demands exceed available liquidity.\n",
    "\n",
    "In essence, while the current market exudes optimism and growth potential, it's crucial for investors to remain vigilant and employ robust risk management practices. Awareness of liquidity constraints and bid-ask spread dynamics can help mitigate risks and enhance decision-making in navigating the volatile crypto landscape."
   ]
  },
  {
   "cell_type": "markdown",
   "id": "40e4a9c7",
   "metadata": {},
   "source": [
    "### Project limitations:\n",
    "The findings should also be taken with a gain of salt for a number of reasons:\n",
    "\n",
    "- Limited Time Frame: The analysis only covers a one-month period, which may not provide a comprehensive view of long-term trends or patterns.\n",
    "\n",
    "- External Influences: External factors such as regulatory developments, technological advancements, and macroeconomic trends can significantly impact cryptocurrency prices. These factors were not accounted for in the analysis and should be considered when interpreting the results.\n",
    "\n",
    "- Market Psychology: Market sentiment and investor psychology play a crucial role in determining price movements. Factors such as fear, greed, and market manipulation can distort price trends.\n",
    "\n",
    "- News and Social Media: News events, announcements, and social media discussions can influence market sentiment and trigger price movements. Analyzing sentiment analysis from social media platforms and monitoring news sources can provide valuable context to price changes."
   ]
  },
  {
   "cell_type": "markdown",
   "id": "307e89cd",
   "metadata": {},
   "source": [
    "### References \n",
    "[1] Binance. Avaliable at https://www.binance.com/en/landing/data\n",
    "\n",
    "[2] Detailed market phases explanation: https://learn.bybit.com/investing/crypto-market-cycles/\n",
    "\n",
    "[3] DOM explanation: https://fastercapital.com/topics/what-is-depth-of-market-(dom)-and-why-is-it-important-for-cryptocurrency-traders.html\n",
    "\n",
    "[4] Market sentiment explanation: https://www.tokenmetrics.com/blog/the-meaning-of-bullish-in-crypto"
   ]
  }
 ],
 "metadata": {
  "kernelspec": {
   "display_name": "Python 3 (ipykernel)",
   "language": "python",
   "name": "python3"
  },
  "language_info": {
   "codemirror_mode": {
    "name": "ipython",
    "version": 3
   },
   "file_extension": ".py",
   "mimetype": "text/x-python",
   "name": "python",
   "nbconvert_exporter": "python",
   "pygments_lexer": "ipython3",
   "version": "3.11.5"
  }
 },
 "nbformat": 4,
 "nbformat_minor": 5
}
