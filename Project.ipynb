{
 "cells": [
  {
   "cell_type": "markdown",
   "id": "ff2f0d67",
   "metadata": {},
   "source": [
    "# Exploratory Data Analysis on Order Book Dynamics of Ethereum"
   ]
  },
  {
   "cell_type": "markdown",
   "id": "eb06b2e4",
   "metadata": {},
   "source": [
    "_____________________________________"
   ]
  },
  {
   "cell_type": "markdown",
   "id": "3d9c6025",
   "metadata": {},
   "source": [
    "Made by: Yelena Razzhivina, yelena.rz@outlook.com"
   ]
  },
  {
   "cell_type": "markdown",
   "id": "410ce27c",
   "metadata": {},
   "source": [
    "# 1. Aims, objectives and background"
   ]
  },
  {
   "cell_type": "markdown",
   "id": "665d2281",
   "metadata": {},
   "source": [
    "## 1.1 Introduction"
   ]
  },
  {
   "cell_type": "markdown",
   "id": "11e52d39",
   "metadata": {},
   "source": [
    "Lately, I have developed a keen interest in the cryptocurrency market and have been exploring ways to analyze it using data science techniques. While traditional methods of predicting and analyzing the cryptocurrency market primarily rely on common metrics such as low, high, opening, and closing prices, I believe that a more comprehensive approach is required to gain deeper insights. In this context, I find the Depth of Market (DOM) to be a fascinating aspect that deserves closer examination. DOM refers to the complete order book of buying and selling prices, recorded over time, and offers a unique perspective into market dynamics that can help shape investment decisions."
   ]
  },
  {
   "cell_type": "markdown",
   "id": "7a124278",
   "metadata": {},
   "source": [
    "## 1.2 Aims and objectives"
   ]
  },
  {
   "cell_type": "markdown",
   "id": "dc7709a5",
   "metadata": {},
   "source": [
    "This study aims to provide an informative analysis on Ethereum.\n",
    "\n",
    "\n",
    "The primary objectives of this study are as follows:\n",
    "\n",
    "-   Process the evolution of the order book over time:\n",
    "    1.  Assess market liquidity \n",
    "    2.  Who dominates the price, the seller or buyer?\n",
    "    2.  Investigate trading activity patterns \n",
    "    4.  Bid-ask spread: The difference between the highest bid price and the lowest ask price\n",
    "    5.  Determine the frequency and distribution of orders throughout the trading day"
   ]
  },
  {
   "cell_type": "markdown",
   "id": "7ba5447e",
   "metadata": {},
   "source": [
    "## 1.3 Steps of the project"
   ]
  },
  {
   "cell_type": "markdown",
   "id": "385d5e88",
   "metadata": {},
   "source": [
    "1. Obtain Dom data from Binance \n",
    "2. Preprocessing data\n",
    "3. Exploratory data analysis\n",
    "4. Conclusions"
   ]
  },
  {
   "cell_type": "markdown",
   "id": "1f5ecc47",
   "metadata": {},
   "source": [
    "## 1.4 Dataset and Libraries"
   ]
  },
  {
   "cell_type": "markdown",
   "id": "1bd7c57d",
   "metadata": {},
   "source": [
    "Dataset:\n",
    "\n",
    "Binance platform offers historical trade data free of charge that can be downloaded via their website: https://www.binance.com/en/landing/data. The collected data, including buy and sell orders along with timestamps, will be organized into a dataframe.\n",
    "\n",
    "\n",
    "Libraries:\n",
    "\n",
    "I will employ Python and Jupyter Notebook enviroment. In order to access the order book from Binance I will use CCXT library. To visualize my findings, I will create an Order Book Heatmap with price levels and quantity, which will allow traders to quickly identify areas of high liquidity. I will also use bar charts and overlay charts to illustrate market trends, pandas and numpy for data manipulation and analysis, matplotlib for graphical representations and scikit-learn for statistical modeling."
   ]
  },
  {
   "cell_type": "markdown",
   "id": "b736054f",
   "metadata": {},
   "source": [
    "## Ethics of data source\n",
    "\n",
    "This data, available for specified time intervals, is publicly accessible and does not necessitate registration. However, it is important to note that according to their privacy policy, the data should not be utilized for commercial purposes."
   ]
  },
  {
   "cell_type": "code",
   "execution_count": 4,
   "id": "5b882cdb",
   "metadata": {},
   "outputs": [],
   "source": [
    "import pandas as pd\n",
    "import numpy as np\n",
    "import seaborn as sns\n",
    "import matplotlib.pyplot as plt"
   ]
  },
  {
   "cell_type": "markdown",
   "id": "d8683f3f",
   "metadata": {},
   "source": [
    "# 2. Data Creation using Binance Historical Market Data"
   ]
  },
  {
   "cell_type": "markdown",
   "id": "adb145b5",
   "metadata": {},
   "source": [
    "I have acquired the market data of spot trades for the month of January 2024 from Binance's website in CSV format."
   ]
  },
  {
   "cell_type": "code",
   "execution_count": 5,
   "id": "77ca793e",
   "metadata": {},
   "outputs": [],
   "source": [
    "df = pd.read_csv(\"ETHUSDT-trades-2024-02.csv\")"
   ]
  },
  {
   "cell_type": "code",
   "execution_count": 6,
   "id": "ce770506",
   "metadata": {},
   "outputs": [
    {
     "data": {
      "text/html": [
       "<div>\n",
       "<style scoped>\n",
       "    .dataframe tbody tr th:only-of-type {\n",
       "        vertical-align: middle;\n",
       "    }\n",
       "\n",
       "    .dataframe tbody tr th {\n",
       "        vertical-align: top;\n",
       "    }\n",
       "\n",
       "    .dataframe thead th {\n",
       "        text-align: right;\n",
       "    }\n",
       "</style>\n",
       "<table border=\"1\" class=\"dataframe\">\n",
       "  <thead>\n",
       "    <tr style=\"text-align: right;\">\n",
       "      <th></th>\n",
       "      <th>1294754183</th>\n",
       "      <th>2283.15000000</th>\n",
       "      <th>0.02570000</th>\n",
       "      <th>58.67695500</th>\n",
       "      <th>1706745600000</th>\n",
       "      <th>False</th>\n",
       "      <th>True</th>\n",
       "    </tr>\n",
       "  </thead>\n",
       "  <tbody>\n",
       "    <tr>\n",
       "      <th>0</th>\n",
       "      <td>1294754184</td>\n",
       "      <td>2283.15</td>\n",
       "      <td>0.0212</td>\n",
       "      <td>48.402780</td>\n",
       "      <td>1706745600000</td>\n",
       "      <td>False</td>\n",
       "      <td>True</td>\n",
       "    </tr>\n",
       "    <tr>\n",
       "      <th>1</th>\n",
       "      <td>1294754185</td>\n",
       "      <td>2283.14</td>\n",
       "      <td>0.0286</td>\n",
       "      <td>65.297804</td>\n",
       "      <td>1706745600002</td>\n",
       "      <td>True</td>\n",
       "      <td>True</td>\n",
       "    </tr>\n",
       "    <tr>\n",
       "      <th>2</th>\n",
       "      <td>1294754186</td>\n",
       "      <td>2283.14</td>\n",
       "      <td>0.0386</td>\n",
       "      <td>88.129204</td>\n",
       "      <td>1706745600004</td>\n",
       "      <td>True</td>\n",
       "      <td>True</td>\n",
       "    </tr>\n",
       "    <tr>\n",
       "      <th>3</th>\n",
       "      <td>1294754187</td>\n",
       "      <td>2283.14</td>\n",
       "      <td>0.0352</td>\n",
       "      <td>80.366528</td>\n",
       "      <td>1706745600004</td>\n",
       "      <td>True</td>\n",
       "      <td>True</td>\n",
       "    </tr>\n",
       "    <tr>\n",
       "      <th>4</th>\n",
       "      <td>1294754188</td>\n",
       "      <td>2283.15</td>\n",
       "      <td>0.0175</td>\n",
       "      <td>39.955125</td>\n",
       "      <td>1706745600004</td>\n",
       "      <td>False</td>\n",
       "      <td>True</td>\n",
       "    </tr>\n",
       "    <tr>\n",
       "      <th>...</th>\n",
       "      <td>...</td>\n",
       "      <td>...</td>\n",
       "      <td>...</td>\n",
       "      <td>...</td>\n",
       "      <td>...</td>\n",
       "      <td>...</td>\n",
       "      <td>...</td>\n",
       "    </tr>\n",
       "    <tr>\n",
       "      <th>31930986</th>\n",
       "      <td>1326685170</td>\n",
       "      <td>3340.09</td>\n",
       "      <td>0.0120</td>\n",
       "      <td>40.081080</td>\n",
       "      <td>1709251199998</td>\n",
       "      <td>True</td>\n",
       "      <td>True</td>\n",
       "    </tr>\n",
       "    <tr>\n",
       "      <th>31930987</th>\n",
       "      <td>1326685171</td>\n",
       "      <td>3340.10</td>\n",
       "      <td>0.0290</td>\n",
       "      <td>96.862900</td>\n",
       "      <td>1709251199998</td>\n",
       "      <td>False</td>\n",
       "      <td>True</td>\n",
       "    </tr>\n",
       "    <tr>\n",
       "      <th>31930988</th>\n",
       "      <td>1326685172</td>\n",
       "      <td>3340.09</td>\n",
       "      <td>0.0200</td>\n",
       "      <td>66.801800</td>\n",
       "      <td>1709251199998</td>\n",
       "      <td>True</td>\n",
       "      <td>True</td>\n",
       "    </tr>\n",
       "    <tr>\n",
       "      <th>31930989</th>\n",
       "      <td>1326685173</td>\n",
       "      <td>3340.09</td>\n",
       "      <td>0.0162</td>\n",
       "      <td>54.109458</td>\n",
       "      <td>1709251199999</td>\n",
       "      <td>True</td>\n",
       "      <td>True</td>\n",
       "    </tr>\n",
       "    <tr>\n",
       "      <th>31930990</th>\n",
       "      <td>1326685174</td>\n",
       "      <td>3340.09</td>\n",
       "      <td>0.0104</td>\n",
       "      <td>34.736936</td>\n",
       "      <td>1709251199999</td>\n",
       "      <td>True</td>\n",
       "      <td>True</td>\n",
       "    </tr>\n",
       "  </tbody>\n",
       "</table>\n",
       "<p>31930991 rows × 7 columns</p>\n",
       "</div>"
      ],
      "text/plain": [
       "          1294754183  2283.15000000  0.02570000  58.67695500  1706745600000  \\\n",
       "0         1294754184        2283.15      0.0212    48.402780  1706745600000   \n",
       "1         1294754185        2283.14      0.0286    65.297804  1706745600002   \n",
       "2         1294754186        2283.14      0.0386    88.129204  1706745600004   \n",
       "3         1294754187        2283.14      0.0352    80.366528  1706745600004   \n",
       "4         1294754188        2283.15      0.0175    39.955125  1706745600004   \n",
       "...              ...            ...         ...          ...            ...   \n",
       "31930986  1326685170        3340.09      0.0120    40.081080  1709251199998   \n",
       "31930987  1326685171        3340.10      0.0290    96.862900  1709251199998   \n",
       "31930988  1326685172        3340.09      0.0200    66.801800  1709251199998   \n",
       "31930989  1326685173        3340.09      0.0162    54.109458  1709251199999   \n",
       "31930990  1326685174        3340.09      0.0104    34.736936  1709251199999   \n",
       "\n",
       "          False  True  \n",
       "0         False  True  \n",
       "1          True  True  \n",
       "2          True  True  \n",
       "3          True  True  \n",
       "4         False  True  \n",
       "...         ...   ...  \n",
       "31930986   True  True  \n",
       "31930987  False  True  \n",
       "31930988   True  True  \n",
       "31930989   True  True  \n",
       "31930990   True  True  \n",
       "\n",
       "[31930991 rows x 7 columns]"
      ]
     },
     "execution_count": 6,
     "metadata": {},
     "output_type": "execute_result"
    }
   ],
   "source": [
    "df"
   ]
  },
  {
   "cell_type": "markdown",
   "id": "8a63b342",
   "metadata": {},
   "source": [
    "## Preprocessing"
   ]
  },
  {
   "cell_type": "markdown",
   "id": "d038e5ae",
   "metadata": {},
   "source": [
    "Rename columns, where \n",
    "- id: Unique key given to each trade\n",
    "\n",
    "- price: Original price for 1 ethereum\n",
    "\n",
    "- qty: Quantity traded\n",
    "\n",
    "- quoteQty: Amount in USDT spend for a quantity\n",
    "\n",
    "- time: Time in milliseconds\n",
    "\n",
    "- isBuyerMaker: if true it is 'sell', if false, it is 'buy'\n",
    "\n",
    "- bestPrice: Match of two orders (here it is always true)"
   ]
  },
  {
   "cell_type": "code",
   "execution_count": 7,
   "id": "5910a0d9",
   "metadata": {},
   "outputs": [],
   "source": [
    "newColumnNames = {\n",
    "    '1294754183': 'id',\n",
    "    '2283.15000000': 'price',\n",
    "    '0.02570000': 'qty',\n",
    "    '58.67695500': 'quoteQty',\n",
    "    '1706745600000': 'time',\n",
    "    'False': 'isBuyerMaker',\n",
    "    'True': 'bestPrice',\n",
    "}\n",
    "df = df.rename(columns=newColumnNames)"
   ]
  },
  {
   "cell_type": "markdown",
   "id": "ba2b5c08",
   "metadata": {},
   "source": [
    "Check for empty values"
   ]
  },
  {
   "cell_type": "code",
   "execution_count": 8,
   "id": "3e7b4f2f",
   "metadata": {
    "scrolled": true
   },
   "outputs": [
    {
     "data": {
      "text/plain": [
       "id              False\n",
       "price           False\n",
       "qty             False\n",
       "quoteQty        False\n",
       "time            False\n",
       "isBuyerMaker    False\n",
       "bestPrice       False\n",
       "dtype: bool"
      ]
     },
     "execution_count": 8,
     "metadata": {},
     "output_type": "execute_result"
    }
   ],
   "source": [
    "df.isnull().any()"
   ]
  },
  {
   "cell_type": "markdown",
   "id": "6a6ac3f7",
   "metadata": {},
   "source": [
    "Verify the accuracy of column data types."
   ]
  },
  {
   "cell_type": "code",
   "execution_count": 9,
   "id": "ca3c0111",
   "metadata": {
    "scrolled": true
   },
   "outputs": [
    {
     "data": {
      "text/plain": [
       "id                int64\n",
       "price           float64\n",
       "qty             float64\n",
       "quoteQty        float64\n",
       "time              int64\n",
       "isBuyerMaker       bool\n",
       "bestPrice          bool\n",
       "dtype: object"
      ]
     },
     "execution_count": 9,
     "metadata": {},
     "output_type": "execute_result"
    }
   ],
   "source": [
    "df.dtypes"
   ]
  },
  {
   "cell_type": "markdown",
   "id": "677955a4",
   "metadata": {},
   "source": [
    "I see that the 'time' column is in integer timestamp format, so I convert it from milliseconds since the Unix epoch into a human-readable date format, and set it as an index. Additionally, for clarity distinguishing between sell and buy transactions, I've introduced a 'label' column based on 'isBuyerMaker' and designated it as the index."
   ]
  },
  {
   "cell_type": "code",
   "execution_count": 10,
   "id": "3472274d",
   "metadata": {},
   "outputs": [
    {
     "data": {
      "text/html": [
       "<div>\n",
       "<style scoped>\n",
       "    .dataframe tbody tr th:only-of-type {\n",
       "        vertical-align: middle;\n",
       "    }\n",
       "\n",
       "    .dataframe tbody tr th {\n",
       "        vertical-align: top;\n",
       "    }\n",
       "\n",
       "    .dataframe thead th {\n",
       "        text-align: right;\n",
       "    }\n",
       "</style>\n",
       "<table border=\"1\" class=\"dataframe\">\n",
       "  <thead>\n",
       "    <tr style=\"text-align: right;\">\n",
       "      <th></th>\n",
       "      <th></th>\n",
       "      <th>id</th>\n",
       "      <th>price</th>\n",
       "      <th>qty</th>\n",
       "      <th>quoteQty</th>\n",
       "      <th>isBuyerMaker</th>\n",
       "      <th>bestPrice</th>\n",
       "    </tr>\n",
       "    <tr>\n",
       "      <th>time</th>\n",
       "      <th>label</th>\n",
       "      <th></th>\n",
       "      <th></th>\n",
       "      <th></th>\n",
       "      <th></th>\n",
       "      <th></th>\n",
       "      <th></th>\n",
       "    </tr>\n",
       "  </thead>\n",
       "  <tbody>\n",
       "    <tr>\n",
       "      <th>2024-02-01 00:00:00.000</th>\n",
       "      <th>buy</th>\n",
       "      <td>1294754184</td>\n",
       "      <td>2283.15</td>\n",
       "      <td>0.0212</td>\n",
       "      <td>48.402780</td>\n",
       "      <td>False</td>\n",
       "      <td>True</td>\n",
       "    </tr>\n",
       "    <tr>\n",
       "      <th>2024-02-01 00:00:00.002</th>\n",
       "      <th>sell</th>\n",
       "      <td>1294754185</td>\n",
       "      <td>2283.14</td>\n",
       "      <td>0.0286</td>\n",
       "      <td>65.297804</td>\n",
       "      <td>True</td>\n",
       "      <td>True</td>\n",
       "    </tr>\n",
       "    <tr>\n",
       "      <th rowspan=\"3\" valign=\"top\">2024-02-01 00:00:00.004</th>\n",
       "      <th>sell</th>\n",
       "      <td>1294754186</td>\n",
       "      <td>2283.14</td>\n",
       "      <td>0.0386</td>\n",
       "      <td>88.129204</td>\n",
       "      <td>True</td>\n",
       "      <td>True</td>\n",
       "    </tr>\n",
       "    <tr>\n",
       "      <th>sell</th>\n",
       "      <td>1294754187</td>\n",
       "      <td>2283.14</td>\n",
       "      <td>0.0352</td>\n",
       "      <td>80.366528</td>\n",
       "      <td>True</td>\n",
       "      <td>True</td>\n",
       "    </tr>\n",
       "    <tr>\n",
       "      <th>buy</th>\n",
       "      <td>1294754188</td>\n",
       "      <td>2283.15</td>\n",
       "      <td>0.0175</td>\n",
       "      <td>39.955125</td>\n",
       "      <td>False</td>\n",
       "      <td>True</td>\n",
       "    </tr>\n",
       "    <tr>\n",
       "      <th>...</th>\n",
       "      <th>...</th>\n",
       "      <td>...</td>\n",
       "      <td>...</td>\n",
       "      <td>...</td>\n",
       "      <td>...</td>\n",
       "      <td>...</td>\n",
       "      <td>...</td>\n",
       "    </tr>\n",
       "    <tr>\n",
       "      <th rowspan=\"3\" valign=\"top\">2024-02-29 23:59:59.998</th>\n",
       "      <th>sell</th>\n",
       "      <td>1326685170</td>\n",
       "      <td>3340.09</td>\n",
       "      <td>0.0120</td>\n",
       "      <td>40.081080</td>\n",
       "      <td>True</td>\n",
       "      <td>True</td>\n",
       "    </tr>\n",
       "    <tr>\n",
       "      <th>buy</th>\n",
       "      <td>1326685171</td>\n",
       "      <td>3340.10</td>\n",
       "      <td>0.0290</td>\n",
       "      <td>96.862900</td>\n",
       "      <td>False</td>\n",
       "      <td>True</td>\n",
       "    </tr>\n",
       "    <tr>\n",
       "      <th>sell</th>\n",
       "      <td>1326685172</td>\n",
       "      <td>3340.09</td>\n",
       "      <td>0.0200</td>\n",
       "      <td>66.801800</td>\n",
       "      <td>True</td>\n",
       "      <td>True</td>\n",
       "    </tr>\n",
       "    <tr>\n",
       "      <th rowspan=\"2\" valign=\"top\">2024-02-29 23:59:59.999</th>\n",
       "      <th>sell</th>\n",
       "      <td>1326685173</td>\n",
       "      <td>3340.09</td>\n",
       "      <td>0.0162</td>\n",
       "      <td>54.109458</td>\n",
       "      <td>True</td>\n",
       "      <td>True</td>\n",
       "    </tr>\n",
       "    <tr>\n",
       "      <th>sell</th>\n",
       "      <td>1326685174</td>\n",
       "      <td>3340.09</td>\n",
       "      <td>0.0104</td>\n",
       "      <td>34.736936</td>\n",
       "      <td>True</td>\n",
       "      <td>True</td>\n",
       "    </tr>\n",
       "  </tbody>\n",
       "</table>\n",
       "<p>31930991 rows × 6 columns</p>\n",
       "</div>"
      ],
      "text/plain": [
       "                                       id    price     qty   quoteQty  \\\n",
       "time                    label                                           \n",
       "2024-02-01 00:00:00.000 buy    1294754184  2283.15  0.0212  48.402780   \n",
       "2024-02-01 00:00:00.002 sell   1294754185  2283.14  0.0286  65.297804   \n",
       "2024-02-01 00:00:00.004 sell   1294754186  2283.14  0.0386  88.129204   \n",
       "                        sell   1294754187  2283.14  0.0352  80.366528   \n",
       "                        buy    1294754188  2283.15  0.0175  39.955125   \n",
       "...                                   ...      ...     ...        ...   \n",
       "2024-02-29 23:59:59.998 sell   1326685170  3340.09  0.0120  40.081080   \n",
       "                        buy    1326685171  3340.10  0.0290  96.862900   \n",
       "                        sell   1326685172  3340.09  0.0200  66.801800   \n",
       "2024-02-29 23:59:59.999 sell   1326685173  3340.09  0.0162  54.109458   \n",
       "                        sell   1326685174  3340.09  0.0104  34.736936   \n",
       "\n",
       "                               isBuyerMaker  bestPrice  \n",
       "time                    label                           \n",
       "2024-02-01 00:00:00.000 buy           False       True  \n",
       "2024-02-01 00:00:00.002 sell           True       True  \n",
       "2024-02-01 00:00:00.004 sell           True       True  \n",
       "                        sell           True       True  \n",
       "                        buy           False       True  \n",
       "...                                     ...        ...  \n",
       "2024-02-29 23:59:59.998 sell           True       True  \n",
       "                        buy           False       True  \n",
       "                        sell           True       True  \n",
       "2024-02-29 23:59:59.999 sell           True       True  \n",
       "                        sell           True       True  \n",
       "\n",
       "[31930991 rows x 6 columns]"
      ]
     },
     "execution_count": 10,
     "metadata": {},
     "output_type": "execute_result"
    }
   ],
   "source": [
    "df['time'] = pd.to_datetime(df['time'], unit = 'ms')\n",
    "\n",
    "df['label'] = df['isBuyerMaker'].apply(lambda x: 'sell' if x else 'buy')\n",
    "\n",
    "df.set_index('label', inplace =True)\n",
    "df.set_index(['time', df.index], inplace =True)\n",
    "df"
   ]
  },
  {
   "cell_type": "markdown",
   "id": "7b52fc09",
   "metadata": {},
   "source": [
    "Drop 'id' and 'bestPrice' columns from the dataset since they do not contribute any more meaningful information and are irrelevant for this analysis."
   ]
  },
  {
   "cell_type": "code",
   "execution_count": 11,
   "id": "2de87e42",
   "metadata": {},
   "outputs": [
    {
     "data": {
      "text/html": [
       "<div>\n",
       "<style scoped>\n",
       "    .dataframe tbody tr th:only-of-type {\n",
       "        vertical-align: middle;\n",
       "    }\n",
       "\n",
       "    .dataframe tbody tr th {\n",
       "        vertical-align: top;\n",
       "    }\n",
       "\n",
       "    .dataframe thead th {\n",
       "        text-align: right;\n",
       "    }\n",
       "</style>\n",
       "<table border=\"1\" class=\"dataframe\">\n",
       "  <thead>\n",
       "    <tr style=\"text-align: right;\">\n",
       "      <th></th>\n",
       "      <th></th>\n",
       "      <th>price</th>\n",
       "      <th>qty</th>\n",
       "      <th>quoteQty</th>\n",
       "    </tr>\n",
       "    <tr>\n",
       "      <th>time</th>\n",
       "      <th>label</th>\n",
       "      <th></th>\n",
       "      <th></th>\n",
       "      <th></th>\n",
       "    </tr>\n",
       "  </thead>\n",
       "  <tbody>\n",
       "    <tr>\n",
       "      <th>2024-02-01 00:00:00.000</th>\n",
       "      <th>buy</th>\n",
       "      <td>2283.15</td>\n",
       "      <td>0.0212</td>\n",
       "      <td>48.402780</td>\n",
       "    </tr>\n",
       "    <tr>\n",
       "      <th>2024-02-01 00:00:00.002</th>\n",
       "      <th>sell</th>\n",
       "      <td>2283.14</td>\n",
       "      <td>0.0286</td>\n",
       "      <td>65.297804</td>\n",
       "    </tr>\n",
       "    <tr>\n",
       "      <th rowspan=\"3\" valign=\"top\">2024-02-01 00:00:00.004</th>\n",
       "      <th>sell</th>\n",
       "      <td>2283.14</td>\n",
       "      <td>0.0386</td>\n",
       "      <td>88.129204</td>\n",
       "    </tr>\n",
       "    <tr>\n",
       "      <th>sell</th>\n",
       "      <td>2283.14</td>\n",
       "      <td>0.0352</td>\n",
       "      <td>80.366528</td>\n",
       "    </tr>\n",
       "    <tr>\n",
       "      <th>buy</th>\n",
       "      <td>2283.15</td>\n",
       "      <td>0.0175</td>\n",
       "      <td>39.955125</td>\n",
       "    </tr>\n",
       "    <tr>\n",
       "      <th>...</th>\n",
       "      <th>...</th>\n",
       "      <td>...</td>\n",
       "      <td>...</td>\n",
       "      <td>...</td>\n",
       "    </tr>\n",
       "    <tr>\n",
       "      <th rowspan=\"3\" valign=\"top\">2024-02-29 23:59:59.998</th>\n",
       "      <th>sell</th>\n",
       "      <td>3340.09</td>\n",
       "      <td>0.0120</td>\n",
       "      <td>40.081080</td>\n",
       "    </tr>\n",
       "    <tr>\n",
       "      <th>buy</th>\n",
       "      <td>3340.10</td>\n",
       "      <td>0.0290</td>\n",
       "      <td>96.862900</td>\n",
       "    </tr>\n",
       "    <tr>\n",
       "      <th>sell</th>\n",
       "      <td>3340.09</td>\n",
       "      <td>0.0200</td>\n",
       "      <td>66.801800</td>\n",
       "    </tr>\n",
       "    <tr>\n",
       "      <th rowspan=\"2\" valign=\"top\">2024-02-29 23:59:59.999</th>\n",
       "      <th>sell</th>\n",
       "      <td>3340.09</td>\n",
       "      <td>0.0162</td>\n",
       "      <td>54.109458</td>\n",
       "    </tr>\n",
       "    <tr>\n",
       "      <th>sell</th>\n",
       "      <td>3340.09</td>\n",
       "      <td>0.0104</td>\n",
       "      <td>34.736936</td>\n",
       "    </tr>\n",
       "  </tbody>\n",
       "</table>\n",
       "<p>31930991 rows × 3 columns</p>\n",
       "</div>"
      ],
      "text/plain": [
       "                                 price     qty   quoteQty\n",
       "time                    label                            \n",
       "2024-02-01 00:00:00.000 buy    2283.15  0.0212  48.402780\n",
       "2024-02-01 00:00:00.002 sell   2283.14  0.0286  65.297804\n",
       "2024-02-01 00:00:00.004 sell   2283.14  0.0386  88.129204\n",
       "                        sell   2283.14  0.0352  80.366528\n",
       "                        buy    2283.15  0.0175  39.955125\n",
       "...                                ...     ...        ...\n",
       "2024-02-29 23:59:59.998 sell   3340.09  0.0120  40.081080\n",
       "                        buy    3340.10  0.0290  96.862900\n",
       "                        sell   3340.09  0.0200  66.801800\n",
       "2024-02-29 23:59:59.999 sell   3340.09  0.0162  54.109458\n",
       "                        sell   3340.09  0.0104  34.736936\n",
       "\n",
       "[31930991 rows x 3 columns]"
      ]
     },
     "execution_count": 11,
     "metadata": {},
     "output_type": "execute_result"
    }
   ],
   "source": [
    "df=df.drop(columns=['bestPrice', 'id', 'isBuyerMaker'])\n",
    "df"
   ]
  },
  {
   "cell_type": "markdown",
   "id": "cc01b13e",
   "metadata": {},
   "source": [
    "Aggregate the time data to ensure it can be processed in second intervals and mean of price, sum of qty and quoteQty numerical data, to make it more manageable to analyze."
   ]
  },
  {
   "cell_type": "code",
   "execution_count": 12,
   "id": "970b2361",
   "metadata": {
    "scrolled": true
   },
   "outputs": [],
   "source": [
    "df = df.groupby([pd.Grouper(freq='s', level='time'), 'label']).agg({'price': 'mean', 'qty': 'sum', 'quoteQty': 'sum'})"
   ]
  },
  {
   "cell_type": "code",
   "execution_count": 13,
   "id": "3605b4eb",
   "metadata": {},
   "outputs": [
    {
     "data": {
      "text/html": [
       "<div>\n",
       "<style scoped>\n",
       "    .dataframe tbody tr th:only-of-type {\n",
       "        vertical-align: middle;\n",
       "    }\n",
       "\n",
       "    .dataframe tbody tr th {\n",
       "        vertical-align: top;\n",
       "    }\n",
       "\n",
       "    .dataframe thead th {\n",
       "        text-align: right;\n",
       "    }\n",
       "</style>\n",
       "<table border=\"1\" class=\"dataframe\">\n",
       "  <thead>\n",
       "    <tr style=\"text-align: right;\">\n",
       "      <th></th>\n",
       "      <th></th>\n",
       "      <th>price</th>\n",
       "      <th>qty</th>\n",
       "      <th>quoteQty</th>\n",
       "    </tr>\n",
       "    <tr>\n",
       "      <th>time</th>\n",
       "      <th>label</th>\n",
       "      <th></th>\n",
       "      <th></th>\n",
       "      <th></th>\n",
       "    </tr>\n",
       "  </thead>\n",
       "  <tbody>\n",
       "    <tr>\n",
       "      <th rowspan=\"2\" valign=\"top\">2024-02-01 00:00:00</th>\n",
       "      <th>buy</th>\n",
       "      <td>2283.150</td>\n",
       "      <td>0.4886</td>\n",
       "      <td>1115.547090</td>\n",
       "    </tr>\n",
       "    <tr>\n",
       "      <th>sell</th>\n",
       "      <td>2283.140</td>\n",
       "      <td>0.9438</td>\n",
       "      <td>2154.827532</td>\n",
       "    </tr>\n",
       "    <tr>\n",
       "      <th rowspan=\"2\" valign=\"top\">2024-02-01 00:00:01</th>\n",
       "      <th>buy</th>\n",
       "      <td>2283.150</td>\n",
       "      <td>0.1531</td>\n",
       "      <td>349.550265</td>\n",
       "    </tr>\n",
       "    <tr>\n",
       "      <th>sell</th>\n",
       "      <td>2283.140</td>\n",
       "      <td>0.0864</td>\n",
       "      <td>197.263296</td>\n",
       "    </tr>\n",
       "    <tr>\n",
       "      <th rowspan=\"2\" valign=\"top\">2024-02-01 00:00:02</th>\n",
       "      <th>buy</th>\n",
       "      <td>2283.150</td>\n",
       "      <td>0.0261</td>\n",
       "      <td>59.590215</td>\n",
       "    </tr>\n",
       "    <tr>\n",
       "      <th>sell</th>\n",
       "      <td>2283.140</td>\n",
       "      <td>0.2626</td>\n",
       "      <td>599.552564</td>\n",
       "    </tr>\n",
       "    <tr>\n",
       "      <th rowspan=\"2\" valign=\"top\">2024-02-01 00:00:03</th>\n",
       "      <th>buy</th>\n",
       "      <td>2283.150</td>\n",
       "      <td>0.0573</td>\n",
       "      <td>130.824495</td>\n",
       "    </tr>\n",
       "    <tr>\n",
       "      <th>sell</th>\n",
       "      <td>2283.140</td>\n",
       "      <td>0.0433</td>\n",
       "      <td>98.859962</td>\n",
       "    </tr>\n",
       "    <tr>\n",
       "      <th rowspan=\"2\" valign=\"top\">2024-02-01 00:00:04</th>\n",
       "      <th>buy</th>\n",
       "      <td>2283.010</td>\n",
       "      <td>0.0030</td>\n",
       "      <td>6.849030</td>\n",
       "    </tr>\n",
       "    <tr>\n",
       "      <th>sell</th>\n",
       "      <td>2283.052</td>\n",
       "      <td>13.7446</td>\n",
       "      <td>31380.192814</td>\n",
       "    </tr>\n",
       "  </tbody>\n",
       "</table>\n",
       "</div>"
      ],
      "text/plain": [
       "                              price      qty      quoteQty\n",
       "time                label                                 \n",
       "2024-02-01 00:00:00 buy    2283.150   0.4886   1115.547090\n",
       "                    sell   2283.140   0.9438   2154.827532\n",
       "2024-02-01 00:00:01 buy    2283.150   0.1531    349.550265\n",
       "                    sell   2283.140   0.0864    197.263296\n",
       "2024-02-01 00:00:02 buy    2283.150   0.0261     59.590215\n",
       "                    sell   2283.140   0.2626    599.552564\n",
       "2024-02-01 00:00:03 buy    2283.150   0.0573    130.824495\n",
       "                    sell   2283.140   0.0433     98.859962\n",
       "2024-02-01 00:00:04 buy    2283.010   0.0030      6.849030\n",
       "                    sell   2283.052  13.7446  31380.192814"
      ]
     },
     "execution_count": 13,
     "metadata": {},
     "output_type": "execute_result"
    }
   ],
   "source": [
    "df.head(10)"
   ]
  },
  {
   "cell_type": "markdown",
   "id": "f352d681",
   "metadata": {},
   "source": [
    "We do not need to keep both 'buy' and 'sell' labels for one second, so we will subtract the quantity of the smaller order from the quantity of the larger order and save the result in the DataFrame"
   ]
  },
  {
   "cell_type": "code",
   "execution_count": 14,
   "id": "7d650c7e",
   "metadata": {},
   "outputs": [],
   "source": [
    "indices_to_drop = []\n",
    "\n",
    "# Checking if 'qty' for 'buy' is bigger than 'qty' for 'sell'\n",
    "for timestamp in df.index.levels[0]:\n",
    "    try:\n",
    "        buy_qty = df.loc[(timestamp, 'buy'), 'qty']\n",
    "        sell_qty = df.loc[(timestamp, 'sell'), 'qty']\n",
    "        buy_quote_qty = df.loc[(timestamp, 'buy'), 'quoteQty']\n",
    "        sell_quote_qty = df.loc[(timestamp, 'sell'), 'quoteQty']\n",
    "\n",
    "        if buy_qty > sell_qty:\n",
    "            df.loc[(timestamp, 'buy'), 'qty'] -= sell_qty\n",
    "            df.loc[(timestamp, 'buy'), 'quoteQty'] -= sell_quote_qty\n",
    "            indices_to_drop.append((timestamp, 'sell'))\n",
    "        else:\n",
    "            df.loc[(timestamp, 'sell'), 'qty'] -= buy_qty\n",
    "            df.loc[(timestamp, 'sell'), 'quoteQty'] -= buy_quote_qty\n",
    "            indices_to_drop.append((timestamp, 'buy'))\n",
    "    except KeyError:\n",
    "        pass\n",
    "\n",
    "# Dropping rows based on the list of indices to drop\n",
    "df.drop(index=indices_to_drop, inplace=True)"
   ]
  },
  {
   "cell_type": "code",
   "execution_count": 15,
   "id": "49098ee5",
   "metadata": {
    "scrolled": false
   },
   "outputs": [
    {
     "data": {
      "text/html": [
       "<div>\n",
       "<style scoped>\n",
       "    .dataframe tbody tr th:only-of-type {\n",
       "        vertical-align: middle;\n",
       "    }\n",
       "\n",
       "    .dataframe tbody tr th {\n",
       "        vertical-align: top;\n",
       "    }\n",
       "\n",
       "    .dataframe thead th {\n",
       "        text-align: right;\n",
       "    }\n",
       "</style>\n",
       "<table border=\"1\" class=\"dataframe\">\n",
       "  <thead>\n",
       "    <tr style=\"text-align: right;\">\n",
       "      <th></th>\n",
       "      <th></th>\n",
       "      <th>price</th>\n",
       "      <th>qty</th>\n",
       "      <th>quoteQty</th>\n",
       "    </tr>\n",
       "    <tr>\n",
       "      <th>time</th>\n",
       "      <th>label</th>\n",
       "      <th></th>\n",
       "      <th></th>\n",
       "      <th></th>\n",
       "    </tr>\n",
       "  </thead>\n",
       "  <tbody>\n",
       "    <tr>\n",
       "      <th>2024-02-01 00:00:00</th>\n",
       "      <th>sell</th>\n",
       "      <td>2283.140000</td>\n",
       "      <td>0.4552</td>\n",
       "      <td>1039.280442</td>\n",
       "    </tr>\n",
       "    <tr>\n",
       "      <th>2024-02-01 00:00:01</th>\n",
       "      <th>buy</th>\n",
       "      <td>2283.150000</td>\n",
       "      <td>0.0667</td>\n",
       "      <td>152.286969</td>\n",
       "    </tr>\n",
       "    <tr>\n",
       "      <th>2024-02-01 00:00:02</th>\n",
       "      <th>sell</th>\n",
       "      <td>2283.140000</td>\n",
       "      <td>0.2365</td>\n",
       "      <td>539.962349</td>\n",
       "    </tr>\n",
       "    <tr>\n",
       "      <th>2024-02-01 00:00:03</th>\n",
       "      <th>buy</th>\n",
       "      <td>2283.150000</td>\n",
       "      <td>0.0140</td>\n",
       "      <td>31.964533</td>\n",
       "    </tr>\n",
       "    <tr>\n",
       "      <th>2024-02-01 00:00:04</th>\n",
       "      <th>sell</th>\n",
       "      <td>2283.052000</td>\n",
       "      <td>13.7416</td>\n",
       "      <td>31373.343784</td>\n",
       "    </tr>\n",
       "    <tr>\n",
       "      <th>2024-02-01 00:00:05</th>\n",
       "      <th>buy</th>\n",
       "      <td>2282.890000</td>\n",
       "      <td>2.3986</td>\n",
       "      <td>5475.741538</td>\n",
       "    </tr>\n",
       "    <tr>\n",
       "      <th>2024-02-01 00:00:06</th>\n",
       "      <th>sell</th>\n",
       "      <td>2282.672564</td>\n",
       "      <td>24.4350</td>\n",
       "      <td>55776.711644</td>\n",
       "    </tr>\n",
       "    <tr>\n",
       "      <th>2024-02-01 00:00:07</th>\n",
       "      <th>sell</th>\n",
       "      <td>2282.430000</td>\n",
       "      <td>3.0622</td>\n",
       "      <td>6989.257025</td>\n",
       "    </tr>\n",
       "    <tr>\n",
       "      <th>2024-02-01 00:00:08</th>\n",
       "      <th>buy</th>\n",
       "      <td>2282.440000</td>\n",
       "      <td>0.1314</td>\n",
       "      <td>299.912616</td>\n",
       "    </tr>\n",
       "    <tr>\n",
       "      <th>2024-02-01 00:00:09</th>\n",
       "      <th>sell</th>\n",
       "      <td>2282.430000</td>\n",
       "      <td>27.8262</td>\n",
       "      <td>63511.353666</td>\n",
       "    </tr>\n",
       "  </tbody>\n",
       "</table>\n",
       "</div>"
      ],
      "text/plain": [
       "                                 price      qty      quoteQty\n",
       "time                label                                    \n",
       "2024-02-01 00:00:00 sell   2283.140000   0.4552   1039.280442\n",
       "2024-02-01 00:00:01 buy    2283.150000   0.0667    152.286969\n",
       "2024-02-01 00:00:02 sell   2283.140000   0.2365    539.962349\n",
       "2024-02-01 00:00:03 buy    2283.150000   0.0140     31.964533\n",
       "2024-02-01 00:00:04 sell   2283.052000  13.7416  31373.343784\n",
       "2024-02-01 00:00:05 buy    2282.890000   2.3986   5475.741538\n",
       "2024-02-01 00:00:06 sell   2282.672564  24.4350  55776.711644\n",
       "2024-02-01 00:00:07 sell   2282.430000   3.0622   6989.257025\n",
       "2024-02-01 00:00:08 buy    2282.440000   0.1314    299.912616\n",
       "2024-02-01 00:00:09 sell   2282.430000  27.8262  63511.353666"
      ]
     },
     "execution_count": 15,
     "metadata": {},
     "output_type": "execute_result"
    }
   ],
   "source": [
    "df.head(10)"
   ]
  },
  {
   "cell_type": "markdown",
   "id": "2c8a60e9",
   "metadata": {},
   "source": [
    "## Exploratory data analysis"
   ]
  },
  {
   "cell_type": "markdown",
   "id": "1778d2ce",
   "metadata": {},
   "source": [
    "1. What dominates the price: the seller or the buyer?\n",
    "\n",
    "I created a plot featuring two lines representing 'buy' and 'sell' actions, with time segmented by day, facilitating a clear observation of monthly trends."
   ]
  },
  {
   "cell_type": "code",
   "execution_count": 17,
   "id": "5efb3972",
   "metadata": {
    "scrolled": false
   },
   "outputs": [
    {
     "data": {
      "text/plain": [
       "<matplotlib.legend.Legend at 0x1407ffc10>"
      ]
     },
     "execution_count": 17,
     "metadata": {},
     "output_type": "execute_result"
    },
    {
     "data": {
      "image/png": "[encoded data removed]",
      "text/plain": [
       "<Figure size 1000x600 with 1 Axes>"
      ]
     },
     "metadata": {},
     "output_type": "display_data"
    }
   ],
   "source": [
    "buy_data = df.loc[df.index.get_level_values('label') == 'buy'][['qty']]\n",
    "sell_data = df.loc[df.index.get_level_values('label') == 'sell'][['qty']]\n",
    "buy_data.reset_index(level='label', drop=True, inplace=True)\n",
    "sell_data.reset_index(level='label', drop=True, inplace=True)\n",
    "\n",
    "buy_data = buy_data.groupby(pd.Grouper(freq='D', level='time')).sum()\n",
    "sell_data = sell_data.groupby(pd.Grouper(freq='D', level='time')).sum()\n",
    "\n",
    "plt.figure(figsize=(10, 6)) \n",
    "plt.plot(buy_data, label='Buy', marker='o')  \n",
    "plt.plot(sell_data, label='Sell', marker='o')\n",
    "plt.xticks(rotation=90)\n",
    "\n",
    "plt.legend()"
   ]
  },
  {
   "attachments": {},
   "cell_type": "markdown",
   "id": "66c5a9c1",
   "metadata": {},
   "source": [
    "I've noticed that although buyers and sellers have been active in the Ethereum market, buyers have shown a stronger presence. Analyzing the market order book data from the last month indicates a bullish sentiment surrounding Ethereum. This suggests traders are optimistic about Ethereum's growth potential, prompting them to either invest in it for the long term or speculate on its price increase. This optimism is reflected in the consistent dominance of buy orders over sell orders. \n",
    "\n",
    "However, on three occasions during the month (07/02, 11/02, 16/02), and notably on 26/02, sell volumes were slightly higher, indicating intermittent selling pressure amid an overall bullish trend. This may indicate profit-taking or short-term corrections within the broader upward trend. Let's examine the total volume of sales and purchases."
   ]
  },
  {
   "cell_type": "code",
   "execution_count": 18,
   "id": "f737cd76",
   "metadata": {},
   "outputs": [
    {
     "name": "stdout",
     "output_type": "stream",
     "text": [
      "Sold 4801176.000599998\n",
      "Bought 5025918.910599999\n"
     ]
    }
   ],
   "source": [
    "print('Sold', df.loc[df.index.get_level_values('label') == 'sell']['qty'].sum())\n",
    "print('Bought', df.loc[df.index.get_level_values('label') == 'buy']['qty'].sum())"
   ]
  },
  {
   "cell_type": "markdown",
   "id": "6006f56b",
   "metadata": {},
   "source": [
    "This pattern suggests that buyers were more active than sellers during this month, further supporting the bullish sentiment. It indicates that overall, there were more Ethereum bought than sold during February 2024, thus driving the price of Ethereum upwards most of the time. We can observe price appreciation:"
   ]
  },
  {
   "cell_type": "code",
   "execution_count": 19,
   "id": "6dbb4b17",
   "metadata": {
    "scrolled": true
   },
   "outputs": [
    {
     "data": {
      "text/plain": [
       "time                 label\n",
       "2024-02-01 00:00:00  sell     2283.140000\n",
       "2024-02-01 00:00:01  buy      2283.150000\n",
       "2024-02-01 00:00:02  sell     2283.140000\n",
       "2024-02-01 00:00:03  buy      2283.150000\n",
       "2024-02-01 00:00:04  sell     2283.052000\n",
       "                                 ...     \n",
       "2024-02-29 23:59:55  buy      3340.430000\n",
       "2024-02-29 23:59:56  sell     3340.327895\n",
       "2024-02-29 23:59:57  buy      3340.100000\n",
       "2024-02-29 23:59:58  sell     3340.090000\n",
       "2024-02-29 23:59:59  sell     3340.090000\n",
       "Name: price, Length: 2145131, dtype: float64"
      ]
     },
     "execution_count": 19,
     "metadata": {},
     "output_type": "execute_result"
    }
   ],
   "source": [
    "df.loc[:, 'price']"
   ]
  },
  {
   "cell_type": "markdown",
   "id": "96f6f0d2",
   "metadata": {},
   "source": [
    "2. Liquidity analysis. It is how easy an asset, such as Ethereum, can be bought or sold in the market without causing significant price changes. It depends on various factors, here we will consider:\n",
    "- Bid-Ask Spread\n",
    "- Depth of Market\n",
    "- Volume at Price"
   ]
  },
  {
   "cell_type": "markdown",
   "id": "7c887696",
   "metadata": {},
   "source": [
    "The bid-ask spread is a measure of the supply and demand. To calculate the bid-ask spread, subtract the highest buy price from the lowest sell price. I also express the bid-ask spread in a percentage of the mid-price, which will give me a standardized measure of the bid-ask spread to the Ethereum's price."
   ]
  },
  {
   "cell_type": "code",
   "execution_count": 20,
   "id": "3ab3456e",
   "metadata": {
    "scrolled": false
   },
   "outputs": [
    {
     "name": "stdout",
     "output_type": "stream",
     "text": [
      "Bid-ask spread: 1281.9218382352942\n",
      "Bid-Ask Spread Percentage: 44.48518152300535 %\n"
     ]
    }
   ],
   "source": [
    "lowest_sell = df.loc[df.index.get_level_values('label') == 'sell']['price'].min()\n",
    "highest_buy = df.loc[df.index.get_level_values('label') == 'buy']['price'].max()\n",
    "\n",
    "bidask_spread = highest_buy - lowest_sell\n",
    "print('Bid-ask spread:', bidask_spread)\n",
    "\n",
    "mid_price = (highest_buy + lowest_sell) / 2\n",
    "\n",
    "bidask_spread_percentage = (bidask_spread / mid_price) * 100\n",
    "print('Bid-Ask Spread Percentage:', bidask_spread_percentage, '%')"
   ]
  },
  {
   "cell_type": "markdown",
   "id": "3834bada",
   "metadata": {},
   "source": [
    "Bid-ask spread percentage of 44.48% indicates that the bid-ask spread is significant compared to the mid-price, potentially suggesting lower liquidity. Lower liquidity result in increased price volatility, as the market may react more sharply to individual trades or news events. It requires further investigation, so let's see Volume at price. I group price by bins and calculate volume at each price level."
   ]
  },
  {
   "cell_type": "code",
   "execution_count": 43,
   "id": "72df7153",
   "metadata": {},
   "outputs": [
    {
     "name": "stdout",
     "output_type": "stream",
     "text": [
      "Volume at Price (VAP) Profile:\n",
      "price\n",
      "(2241.0, 2341.0]    2.642548e+09\n",
      "(2341.0, 2441.0]    1.671916e+09\n",
      "(2441.0, 2541.0]    2.342460e+09\n",
      "(2541.0, 2641.0]    1.075163e+09\n",
      "(2641.0, 2741.0]    1.041674e+09\n",
      "(2741.0, 2841.0]    3.452806e+09\n",
      "(2841.0, 2941.0]    4.094536e+09\n",
      "(2941.0, 3041.0]    3.879552e+09\n",
      "(3041.0, 3141.0]    1.389386e+09\n",
      "(3141.0, 3241.0]    1.364849e+09\n",
      "(3241.0, 3341.0]    2.163525e+09\n",
      "(3341.0, 3441.0]    1.452718e+09\n",
      "Name: quoteQty, dtype: float64\n"
     ]
    }
   ],
   "source": [
    "price_intervals = pd.interval_range(start=df['price'].min(), end=df['price'].max(), freq=100)\n",
    "\n",
    "# Calculate volume at each price level\n",
    "vap = pd.cut(df['price'], bins=price_intervals, labels=False)\n",
    "vap = df.groupby(vap)['quoteQty'].sum()\n",
    "\n",
    "print(\"Volume at Price (VAP) Profile:\")\n",
    "print(vap)"
   ]
  },
  {
   "cell_type": "code",
   "execution_count": 44,
   "id": "afebd5ff",
   "metadata": {},
   "outputs": [
    {
     "data": {
      "image/png": "[encoded data removed]",
      "text/plain": [
       "<Figure size 1000x600 with 1 Axes>"
      ]
     },
     "metadata": {},
     "output_type": "display_data"
    }
   ],
   "source": [
    "df['price'] = df['price'].round()\n",
    "price_intervals = pd.interval_range(start=df['price'].min(), end=df['price'].max(), freq=100)\n",
    "\n",
    "vap = pd.cut(df['price'], bins=price_intervals, labels=False)\n",
    "vap = df.groupby(vap)['quoteQty'].sum()\n",
    "\n",
    "plt.figure(figsize=(10, 6))\n",
    "plt.bar(vap.index.astype(str), vap.values, width=0.8, color='blue')\n",
    "plt.xlabel('Price Intervals')\n",
    "plt.ylabel('Volume (quoteQty)')\n",
    "plt.title('Volume at Price (VAP) Profile')\n",
    "plt.xticks(rotation=45, ha='right')\n",
    "plt.tight_layout()"
   ]
  },
  {
   "cell_type": "markdown",
   "id": "2534ebc1",
   "metadata": {},
   "source": [
    "Higher volume is observed in 2741-3041 ranges compared to others, suggesting areas of significant trading activity. The VAP profile shows that there is considerable trading volume in higher price ranges (2741-3041) indicating strong demand for Ethereum at these levels and a potential for further price appreciation. \n",
    "\n",
    "Market Dynamics: Overall, the observations suggest a bullish market sentiment with a strong presence of buyers, indicating optimism about Ethereum's future potential and a willingness to hold or speculate on its price appreciation. However, the market remains volatile, as indicated by the bid-ask spread percentage, so let's consider market depth. It examines the distribution of buy and sell orders at different price levels. I used depth chart to show it, where it holds cumulative order quantities at each price level."
   ]
  },
  {
   "cell_type": "code",
   "execution_count": 39,
   "id": "065abd4b",
   "metadata": {
    "scrolled": false
   },
   "outputs": [
    {
     "data": {
      "image/png": "[encoded data removed]",
      "text/plain": [
       "<Figure size 1000x600 with 1 Axes>"
      ]
     },
     "metadata": {},
     "output_type": "display_data"
    }
   ],
   "source": [
    "buy_orders = df.loc[df.index.get_level_values('label') == 'buy']\n",
    "sell_orders = df.loc[df.index.get_level_values('label') == 'sell']\n",
    "\n",
    "# Get unique price levels\n",
    "price_levels = sorted(set(df['price']))\n",
    "\n",
    "# Initialize lists for bid and ask volumes\n",
    "bid_volume_depth = []\n",
    "ask_volume_depth = []\n",
    "\n",
    "# Calculate bid and ask volumes for each price level\n",
    "for price in price_levels:\n",
    "    bid_volume = buy_orders[buy_orders['price'] == price]['qty'].sum()\n",
    "    ask_volume = sell_orders[sell_orders['price'] == price]['qty'].sum()\n",
    "    bid_volume_depth.append(bid_volume)\n",
    "    ask_volume_depth.append(ask_volume)\n",
    "\n",
    "# Calculate cumulative volumes\n",
    "cum_bid_volume = [sum(bid_volume_depth[:i+1]) for i in range(len(bid_volume_depth))]\n",
    "cum_ask_volume = [sum(ask_volume_depth[:i+1]) for i in range(len(ask_volume_depth))]\n",
    "\n",
    "# Create depth chart\n",
    "plt.figure(figsize=(10, 6))\n",
    "plt.plot(price_levels, cum_bid_volume, label='Bid', color='blue')\n",
    "plt.plot(price_levels, cum_ask_volume, label='Ask', color='red')\n",
    "plt.title('Order Book Depth Chart for Ethereum (February 2024)')\n",
    "plt.xlabel('Price')\n",
    "plt.ylabel('Cumulative Volume')\n",
    "plt.legend()\n",
    "plt.grid(True)\n",
    "plt.show()"
   ]
  },
  {
   "cell_type": "markdown",
   "id": "d54818f9",
   "metadata": {},
   "source": [
    "Observations:"
   ]
  }
 ],
 "metadata": {
  "kernelspec": {
   "display_name": "Python 3 (ipykernel)",
   "language": "python",
   "name": "python3"
  },
  "language_info": {
   "codemirror_mode": {
    "name": "ipython",
    "version": 3
   },
   "file_extension": ".py",
   "mimetype": "text/x-python",
   "name": "python",
   "nbconvert_exporter": "python",
   "pygments_lexer": "ipython3",
   "version": "3.11.5"
  }
 },
 "nbformat": 4,
 "nbformat_minor": 5
}
